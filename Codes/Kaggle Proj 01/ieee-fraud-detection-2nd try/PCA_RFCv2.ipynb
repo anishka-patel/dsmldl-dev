{
 "cells": [
  {
   "cell_type": "code",
   "execution_count": 1,
   "metadata": {},
   "outputs": [],
   "source": [
    "import pickle\n",
    "import pandas as pd\n",
    "import numpy as np"
   ]
  },
  {
   "cell_type": "code",
   "execution_count": 2,
   "metadata": {},
   "outputs": [],
   "source": [
    "Xtrain = pickle.load(open('Xtrain_ANN.data', 'rb'))\n",
    "Ytrain = pickle.load(open('Ytrain_ANN.data', 'rb'))"
   ]
  },
  {
   "cell_type": "code",
   "execution_count": 3,
   "metadata": {},
   "outputs": [],
   "source": [
    "from sklearn.decomposition import PCA"
   ]
  },
  {
   "cell_type": "code",
   "execution_count": 4,
   "metadata": {},
   "outputs": [],
   "source": [
    "pca = PCA(n_components=100)"
   ]
  },
  {
   "cell_type": "code",
   "execution_count": 5,
   "metadata": {},
   "outputs": [
    {
     "data": {
      "text/plain": [
       "PCA(copy=True, iterated_power='auto', n_components=100, random_state=None,\n",
       "    svd_solver='auto', tol=0.0, whiten=False)"
      ]
     },
     "execution_count": 5,
     "metadata": {},
     "output_type": "execute_result"
    }
   ],
   "source": [
    "pca.fit(Xtrain)"
   ]
  },
  {
   "cell_type": "code",
   "execution_count": 6,
   "metadata": {},
   "outputs": [
    {
     "data": {
      "text/plain": [
       "array([1.53691052, 0.51650046, 0.49245962, 0.44320213, 0.3996141 ,\n",
       "       0.3728763 , 0.34904255, 0.30409751, 0.28935477, 0.22907146,\n",
       "       0.20430351, 0.16881411, 0.1497853 , 0.13200864, 0.12425354,\n",
       "       0.10653815, 0.10525059, 0.09735936, 0.09501407, 0.08820326,\n",
       "       0.08559168, 0.08331366, 0.07050821, 0.06771544, 0.06389252,\n",
       "       0.0575539 , 0.0527528 , 0.04716308, 0.04583233, 0.0448552 ,\n",
       "       0.04237726, 0.04029173, 0.03876344, 0.03744882, 0.03641377,\n",
       "       0.03532321, 0.03020686, 0.02742895, 0.02592265, 0.0257678 ,\n",
       "       0.02362075, 0.02228836, 0.02159805, 0.02010956, 0.01944478,\n",
       "       0.0177831 , 0.01717802, 0.01652731, 0.01607151, 0.01524205,\n",
       "       0.01433245, 0.01363158, 0.01287726, 0.01244912, 0.01234272,\n",
       "       0.01218818, 0.01184055, 0.01143178, 0.01127677, 0.01069909,\n",
       "       0.01055574, 0.00980349, 0.00898264, 0.00890886, 0.00839821,\n",
       "       0.00790664, 0.00773447, 0.00750845, 0.00715646, 0.00698996,\n",
       "       0.00681666, 0.00666479, 0.00647881, 0.00585648, 0.005581  ,\n",
       "       0.00554596, 0.00546546, 0.00529174, 0.00491551, 0.0048057 ,\n",
       "       0.0047097 , 0.00457362, 0.00442713, 0.00428238, 0.00421231,\n",
       "       0.00405463, 0.0039326 , 0.00390512, 0.00367004, 0.0035502 ,\n",
       "       0.00344511, 0.00331753, 0.00324697, 0.00313687, 0.00299548,\n",
       "       0.0029614 , 0.00282927, 0.00282178, 0.00258497, 0.0025526 ])"
      ]
     },
     "execution_count": 6,
     "metadata": {},
     "output_type": "execute_result"
    }
   ],
   "source": [
    "pca.explained_variance_"
   ]
  },
  {
   "cell_type": "code",
   "execution_count": 7,
   "metadata": {},
   "outputs": [
    {
     "data": {
      "text/plain": [
       "array([952.68336905, 552.28042499, 539.27415161, 511.59373042,\n",
       "       485.78566609, 469.25259601, 454.00797364, 423.77050403,\n",
       "       413.37062837, 367.79835612, 347.34592657, 315.7393151 ,\n",
       "       297.41227537, 279.20646124, 270.88107937, 250.8284875 ,\n",
       "       249.30819895, 239.78010334, 236.87447345, 228.22678272,\n",
       "       224.82265666, 221.81064765, 204.05353693, 199.97152569,\n",
       "       194.24475783, 184.35786944, 176.50094352, 166.88810337,\n",
       "       164.5168106 , 162.75364122, 158.19425543, 154.25250857,\n",
       "       151.29878162, 148.71109277, 146.64158296, 144.42899561,\n",
       "       133.56020352, 127.27083414, 123.7268522 , 123.35675119,\n",
       "       118.10577656, 114.72639376, 112.93579207, 108.9746844 ,\n",
       "       107.15829956, 102.47739454, 100.71885671,  98.79281371,\n",
       "        97.42100045,  94.87371618,  91.99929024,  89.7216692 ,\n",
       "        87.20390919,  85.74199322,  85.37479366,  84.83865111,\n",
       "        83.62001001,  82.16394713,  81.60498987,  79.48728439,\n",
       "        78.95298489,  76.08773854,  72.83266434,  72.53297311,\n",
       "        70.42352414,  68.33137213,  67.58332011,  66.5885468 ,\n",
       "        65.00897062,  64.24830259,  63.44685927,  62.73611996,\n",
       "        61.854605  ,  58.80883875,  57.40905256,  57.22855635,\n",
       "        56.81169131,  55.90148925,  53.87765267,  53.27243116,\n",
       "        52.7376866 ,  51.97021424,  51.13114147,  50.28829997,\n",
       "        49.87517241,  48.93279751,  48.19082202,  48.02215554,\n",
       "        46.55430729,  45.78790022,  45.10510696,  44.26204363,\n",
       "        43.78883418,  43.04006259,  42.05884927,  41.81893015,\n",
       "        40.87537246,  40.82119756,  39.07074628,  38.82538592])"
      ]
     },
     "execution_count": 7,
     "metadata": {},
     "output_type": "execute_result"
    }
   ],
   "source": [
    "pca.singular_values_"
   ]
  },
  {
   "cell_type": "code",
   "execution_count": 8,
   "metadata": {},
   "outputs": [
    {
     "data": {
      "text/html": [
       "<div>\n",
       "<style scoped>\n",
       "    .dataframe tbody tr th:only-of-type {\n",
       "        vertical-align: middle;\n",
       "    }\n",
       "\n",
       "    .dataframe tbody tr th {\n",
       "        vertical-align: top;\n",
       "    }\n",
       "\n",
       "    .dataframe thead th {\n",
       "        text-align: right;\n",
       "    }\n",
       "</style>\n",
       "<table border=\"1\" class=\"dataframe\">\n",
       "  <thead>\n",
       "    <tr style=\"text-align: right;\">\n",
       "      <th></th>\n",
       "      <th>0</th>\n",
       "      <th>1</th>\n",
       "      <th>2</th>\n",
       "      <th>3</th>\n",
       "      <th>4</th>\n",
       "      <th>5</th>\n",
       "      <th>6</th>\n",
       "      <th>7</th>\n",
       "      <th>8</th>\n",
       "      <th>9</th>\n",
       "      <th>...</th>\n",
       "      <th>90</th>\n",
       "      <th>91</th>\n",
       "      <th>92</th>\n",
       "      <th>93</th>\n",
       "      <th>94</th>\n",
       "      <th>95</th>\n",
       "      <th>96</th>\n",
       "      <th>97</th>\n",
       "      <th>98</th>\n",
       "      <th>99</th>\n",
       "    </tr>\n",
       "  </thead>\n",
       "  <tbody>\n",
       "    <tr>\n",
       "      <td>0</td>\n",
       "      <td>0.147497</td>\n",
       "      <td>-0.128136</td>\n",
       "      <td>-0.555639</td>\n",
       "      <td>0.292194</td>\n",
       "      <td>-0.168896</td>\n",
       "      <td>1.501089</td>\n",
       "      <td>0.938601</td>\n",
       "      <td>0.363685</td>\n",
       "      <td>-0.396042</td>\n",
       "      <td>-0.006756</td>\n",
       "      <td>...</td>\n",
       "      <td>-0.003403</td>\n",
       "      <td>0.013582</td>\n",
       "      <td>0.040575</td>\n",
       "      <td>-0.051422</td>\n",
       "      <td>-0.040557</td>\n",
       "      <td>0.026501</td>\n",
       "      <td>-0.007043</td>\n",
       "      <td>-0.005600</td>\n",
       "      <td>-0.039398</td>\n",
       "      <td>-0.047619</td>\n",
       "    </tr>\n",
       "    <tr>\n",
       "      <td>1</td>\n",
       "      <td>0.215837</td>\n",
       "      <td>-0.316249</td>\n",
       "      <td>-0.480825</td>\n",
       "      <td>1.065285</td>\n",
       "      <td>-0.388672</td>\n",
       "      <td>0.314880</td>\n",
       "      <td>0.001645</td>\n",
       "      <td>-0.663226</td>\n",
       "      <td>-1.176959</td>\n",
       "      <td>0.081671</td>\n",
       "      <td>...</td>\n",
       "      <td>-0.002372</td>\n",
       "      <td>-0.011060</td>\n",
       "      <td>-0.010868</td>\n",
       "      <td>0.010950</td>\n",
       "      <td>0.000706</td>\n",
       "      <td>0.003861</td>\n",
       "      <td>-0.000433</td>\n",
       "      <td>-0.007567</td>\n",
       "      <td>0.004233</td>\n",
       "      <td>-0.003780</td>\n",
       "    </tr>\n",
       "    <tr>\n",
       "      <td>2</td>\n",
       "      <td>-1.357071</td>\n",
       "      <td>0.254334</td>\n",
       "      <td>0.212074</td>\n",
       "      <td>-0.170978</td>\n",
       "      <td>0.917643</td>\n",
       "      <td>-0.101091</td>\n",
       "      <td>0.896096</td>\n",
       "      <td>0.363993</td>\n",
       "      <td>0.523769</td>\n",
       "      <td>-0.618342</td>\n",
       "      <td>...</td>\n",
       "      <td>0.011291</td>\n",
       "      <td>-0.048961</td>\n",
       "      <td>-0.018383</td>\n",
       "      <td>0.007660</td>\n",
       "      <td>-0.026428</td>\n",
       "      <td>-0.006766</td>\n",
       "      <td>0.030467</td>\n",
       "      <td>0.016448</td>\n",
       "      <td>-0.194050</td>\n",
       "      <td>0.128164</td>\n",
       "    </tr>\n",
       "    <tr>\n",
       "      <td>3</td>\n",
       "      <td>-0.699646</td>\n",
       "      <td>0.090907</td>\n",
       "      <td>-0.430041</td>\n",
       "      <td>0.786889</td>\n",
       "      <td>-0.922474</td>\n",
       "      <td>-0.422978</td>\n",
       "      <td>-0.176333</td>\n",
       "      <td>0.432002</td>\n",
       "      <td>0.212042</td>\n",
       "      <td>-0.075838</td>\n",
       "      <td>...</td>\n",
       "      <td>0.007092</td>\n",
       "      <td>-0.022068</td>\n",
       "      <td>0.057170</td>\n",
       "      <td>-0.013088</td>\n",
       "      <td>0.006710</td>\n",
       "      <td>-0.034595</td>\n",
       "      <td>-0.003494</td>\n",
       "      <td>0.132069</td>\n",
       "      <td>0.055701</td>\n",
       "      <td>0.039724</td>\n",
       "    </tr>\n",
       "    <tr>\n",
       "      <td>4</td>\n",
       "      <td>2.361831</td>\n",
       "      <td>0.017103</td>\n",
       "      <td>1.310205</td>\n",
       "      <td>1.881893</td>\n",
       "      <td>-0.120688</td>\n",
       "      <td>-0.377364</td>\n",
       "      <td>0.510768</td>\n",
       "      <td>-0.666730</td>\n",
       "      <td>-0.220307</td>\n",
       "      <td>0.107169</td>\n",
       "      <td>...</td>\n",
       "      <td>0.005544</td>\n",
       "      <td>0.076101</td>\n",
       "      <td>0.015977</td>\n",
       "      <td>0.069559</td>\n",
       "      <td>0.018829</td>\n",
       "      <td>0.087929</td>\n",
       "      <td>-0.016971</td>\n",
       "      <td>0.044604</td>\n",
       "      <td>0.008291</td>\n",
       "      <td>0.012755</td>\n",
       "    </tr>\n",
       "  </tbody>\n",
       "</table>\n",
       "<p>5 rows × 100 columns</p>\n",
       "</div>"
      ],
      "text/plain": [
       "         0         1         2         3         4         5         6   \\\n",
       "0  0.147497 -0.128136 -0.555639  0.292194 -0.168896  1.501089  0.938601   \n",
       "1  0.215837 -0.316249 -0.480825  1.065285 -0.388672  0.314880  0.001645   \n",
       "2 -1.357071  0.254334  0.212074 -0.170978  0.917643 -0.101091  0.896096   \n",
       "3 -0.699646  0.090907 -0.430041  0.786889 -0.922474 -0.422978 -0.176333   \n",
       "4  2.361831  0.017103  1.310205  1.881893 -0.120688 -0.377364  0.510768   \n",
       "\n",
       "         7         8         9   ...        90        91        92        93  \\\n",
       "0  0.363685 -0.396042 -0.006756  ... -0.003403  0.013582  0.040575 -0.051422   \n",
       "1 -0.663226 -1.176959  0.081671  ... -0.002372 -0.011060 -0.010868  0.010950   \n",
       "2  0.363993  0.523769 -0.618342  ...  0.011291 -0.048961 -0.018383  0.007660   \n",
       "3  0.432002  0.212042 -0.075838  ...  0.007092 -0.022068  0.057170 -0.013088   \n",
       "4 -0.666730 -0.220307  0.107169  ...  0.005544  0.076101  0.015977  0.069559   \n",
       "\n",
       "         94        95        96        97        98        99  \n",
       "0 -0.040557  0.026501 -0.007043 -0.005600 -0.039398 -0.047619  \n",
       "1  0.000706  0.003861 -0.000433 -0.007567  0.004233 -0.003780  \n",
       "2 -0.026428 -0.006766  0.030467  0.016448 -0.194050  0.128164  \n",
       "3  0.006710 -0.034595 -0.003494  0.132069  0.055701  0.039724  \n",
       "4  0.018829  0.087929 -0.016971  0.044604  0.008291  0.012755  \n",
       "\n",
       "[5 rows x 100 columns]"
      ]
     },
     "execution_count": 8,
     "metadata": {},
     "output_type": "execute_result"
    }
   ],
   "source": [
    "Xtrain = pd.DataFrame(data=pca.transform(Xtrain))\n",
    "Xtrain.head()"
   ]
  },
  {
   "cell_type": "code",
   "execution_count": 9,
   "metadata": {},
   "outputs": [
    {
     "data": {
      "text/plain": [
       "(590540, 100)"
      ]
     },
     "execution_count": 9,
     "metadata": {},
     "output_type": "execute_result"
    }
   ],
   "source": [
    "Xtrain.shape"
   ]
  },
  {
   "cell_type": "code",
   "execution_count": 10,
   "metadata": {},
   "outputs": [],
   "source": [
    "from sklearn.ensemble import RandomForestClassifier"
   ]
  },
  {
   "cell_type": "code",
   "execution_count": 11,
   "metadata": {},
   "outputs": [],
   "source": [
    "clf = RandomForestClassifier(n_estimators=1000, n_jobs=-1, criterion='entropy')"
   ]
  },
  {
   "cell_type": "code",
   "execution_count": 12,
   "metadata": {},
   "outputs": [
    {
     "data": {
      "text/plain": [
       "RandomForestClassifier(bootstrap=True, class_weight=None, criterion='entropy',\n",
       "                       max_depth=None, max_features='auto', max_leaf_nodes=None,\n",
       "                       min_impurity_decrease=0.0, min_impurity_split=None,\n",
       "                       min_samples_leaf=1, min_samples_split=2,\n",
       "                       min_weight_fraction_leaf=0.0, n_estimators=1000,\n",
       "                       n_jobs=-1, oob_score=False, random_state=None, verbose=0,\n",
       "                       warm_start=False)"
      ]
     },
     "execution_count": 12,
     "metadata": {},
     "output_type": "execute_result"
    }
   ],
   "source": [
    "clf.fit(Xtrain, Ytrain)"
   ]
  },
  {
   "cell_type": "code",
   "execution_count": 13,
   "metadata": {},
   "outputs": [],
   "source": [
    "from sklearn.metrics import log_loss, classification_report, confusion_matrix"
   ]
  },
  {
   "cell_type": "code",
   "execution_count": 14,
   "metadata": {},
   "outputs": [],
   "source": [
    "Ytrain_ = clf.predict(Xtrain)"
   ]
  },
  {
   "cell_type": "code",
   "execution_count": 15,
   "metadata": {},
   "outputs": [
    {
     "name": "stdout",
     "output_type": "stream",
     "text": [
      "9.99200722162641e-16\n",
      "[[569877      0]\n",
      " [     0  20663]]\n",
      "              precision    recall  f1-score   support\n",
      "\n",
      "           0       1.00      1.00      1.00    569877\n",
      "           1       1.00      1.00      1.00     20663\n",
      "\n",
      "    accuracy                           1.00    590540\n",
      "   macro avg       1.00      1.00      1.00    590540\n",
      "weighted avg       1.00      1.00      1.00    590540\n",
      "\n"
     ]
    }
   ],
   "source": [
    "print(log_loss(Ytrain, Ytrain_))\n",
    "print(confusion_matrix(Ytrain, Ytrain_))\n",
    "print(classification_report(Ytrain, Ytrain_))"
   ]
  },
  {
   "cell_type": "code",
   "execution_count": 16,
   "metadata": {},
   "outputs": [],
   "source": [
    "Xtest = pickle.load(open('Xtest_ANN.data', 'rb'))"
   ]
  },
  {
   "cell_type": "code",
   "execution_count": 17,
   "metadata": {},
   "outputs": [],
   "source": [
    "Xtest = pca.transform(Xtest)"
   ]
  },
  {
   "cell_type": "code",
   "execution_count": 18,
   "metadata": {},
   "outputs": [],
   "source": [
    "Ytest_ = clf.predict_proba(Xtest)"
   ]
  },
  {
   "cell_type": "code",
   "execution_count": 19,
   "metadata": {},
   "outputs": [],
   "source": [
    "submission = pd.read_csv('./raw/sample_submission.csv', index_col='TransactionID')"
   ]
  },
  {
   "cell_type": "code",
   "execution_count": 20,
   "metadata": {},
   "outputs": [
    {
     "data": {
      "text/plain": [
       "isFraud    506691\n",
       "dtype: int64"
      ]
     },
     "execution_count": 20,
     "metadata": {},
     "output_type": "execute_result"
    }
   ],
   "source": [
    "submission.count()"
   ]
  },
  {
   "cell_type": "code",
   "execution_count": 21,
   "metadata": {},
   "outputs": [
    {
     "data": {
      "text/html": [
       "<div>\n",
       "<style scoped>\n",
       "    .dataframe tbody tr th:only-of-type {\n",
       "        vertical-align: middle;\n",
       "    }\n",
       "\n",
       "    .dataframe tbody tr th {\n",
       "        vertical-align: top;\n",
       "    }\n",
       "\n",
       "    .dataframe thead th {\n",
       "        text-align: right;\n",
       "    }\n",
       "</style>\n",
       "<table border=\"1\" class=\"dataframe\">\n",
       "  <thead>\n",
       "    <tr style=\"text-align: right;\">\n",
       "      <th></th>\n",
       "      <th>isFraud</th>\n",
       "    </tr>\n",
       "    <tr>\n",
       "      <th>TransactionID</th>\n",
       "      <th></th>\n",
       "    </tr>\n",
       "  </thead>\n",
       "  <tbody>\n",
       "    <tr>\n",
       "      <td>3663549</td>\n",
       "      <td>0.975</td>\n",
       "    </tr>\n",
       "    <tr>\n",
       "      <td>3663550</td>\n",
       "      <td>0.983</td>\n",
       "    </tr>\n",
       "    <tr>\n",
       "      <td>3663551</td>\n",
       "      <td>0.981</td>\n",
       "    </tr>\n",
       "    <tr>\n",
       "      <td>3663552</td>\n",
       "      <td>0.996</td>\n",
       "    </tr>\n",
       "    <tr>\n",
       "      <td>3663553</td>\n",
       "      <td>0.989</td>\n",
       "    </tr>\n",
       "  </tbody>\n",
       "</table>\n",
       "</div>"
      ],
      "text/plain": [
       "               isFraud\n",
       "TransactionID         \n",
       "3663549          0.975\n",
       "3663550          0.983\n",
       "3663551          0.981\n",
       "3663552          0.996\n",
       "3663553          0.989"
      ]
     },
     "execution_count": 21,
     "metadata": {},
     "output_type": "execute_result"
    }
   ],
   "source": [
    "submission['isFraud'] = Ytest_\n",
    "submission.head()"
   ]
  },
  {
   "cell_type": "code",
   "execution_count": 22,
   "metadata": {},
   "outputs": [],
   "source": [
    "submission['isFraud'] = 1 - submission['isFraud']"
   ]
  },
  {
   "cell_type": "code",
   "execution_count": 23,
   "metadata": {},
   "outputs": [
    {
     "data": {
      "text/plain": [
       "isFraud    3160\n",
       "dtype: int64"
      ]
     },
     "execution_count": 23,
     "metadata": {},
     "output_type": "execute_result"
    }
   ],
   "source": [
    "submission[submission['isFraud'] > 0.5].count()"
   ]
  },
  {
   "cell_type": "code",
   "execution_count": 24,
   "metadata": {},
   "outputs": [],
   "source": [
    "submission.to_csv('predicted_PCA_RFCv1.csv')"
   ]
  },
  {
   "cell_type": "code",
   "execution_count": 25,
   "metadata": {},
   "outputs": [],
   "source": [
    "pickle.dump(clf, open('clf_PCA_RFCv1.model', 'wb'))"
   ]
  },
  {
   "cell_type": "code",
   "execution_count": null,
   "metadata": {},
   "outputs": [],
   "source": []
  },
  {
   "cell_type": "code",
   "execution_count": null,
   "metadata": {},
   "outputs": [],
   "source": []
  }
 ],
 "metadata": {
  "kernelspec": {
   "display_name": "Python 3",
   "language": "python",
   "name": "python3"
  },
  "language_info": {
   "codemirror_mode": {
    "name": "ipython",
    "version": 3
   },
   "file_extension": ".py",
   "mimetype": "text/x-python",
   "name": "python",
   "nbconvert_exporter": "python",
   "pygments_lexer": "ipython3",
   "version": "3.6.9"
  }
 },
 "nbformat": 4,
 "nbformat_minor": 4
}
