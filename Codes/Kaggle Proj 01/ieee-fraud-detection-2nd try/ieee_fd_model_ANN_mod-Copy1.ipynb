{
 "cells": [
  {
   "cell_type": "code",
   "execution_count": 1,
   "metadata": {},
   "outputs": [],
   "source": [
    "import pandas as pd\n",
    "import numpy as np\n",
    "import pickle\n",
    "import matplotlib.pyplot as plt"
   ]
  },
  {
   "cell_type": "code",
   "execution_count": 2,
   "metadata": {},
   "outputs": [],
   "source": [
    "Xtrain = pickle.load(open('Xtrain_ANN.data', 'rb'))\n",
    "Ytrain = pickle.load(open('Ytrain_ANN.data', 'rb'))"
   ]
  },
  {
   "cell_type": "code",
   "execution_count": 3,
   "metadata": {},
   "outputs": [
    {
     "name": "stderr",
     "output_type": "stream",
     "text": [
      "Using TensorFlow backend.\n"
     ]
    }
   ],
   "source": [
    "from keras.models import Sequential\n",
    "from keras.layers import Dense, Dropout, BatchNormalization"
   ]
  },
  {
   "cell_type": "code",
   "execution_count": 4,
   "metadata": {},
   "outputs": [],
   "source": [
    "from keras.callbacks import EarlyStopping, ReduceLROnPlateau"
   ]
  },
  {
   "cell_type": "code",
   "execution_count": 5,
   "metadata": {},
   "outputs": [],
   "source": [
    "earlystop = EarlyStopping(patience=20, restore_best_weights=True)\n",
    "\n",
    "reduce_learning = ReduceLROnPlateau(patience=5, verbose=1, cooldown=10)"
   ]
  },
  {
   "cell_type": "code",
   "execution_count": 6,
   "metadata": {},
   "outputs": [],
   "source": [
    "callbacks = [earlystop, reduce_learning]"
   ]
  },
  {
   "cell_type": "code",
   "execution_count": 7,
   "metadata": {},
   "outputs": [],
   "source": [
    "clf = Sequential()"
   ]
  },
  {
   "cell_type": "code",
   "execution_count": 8,
   "metadata": {},
   "outputs": [
    {
     "name": "stdout",
     "output_type": "stream",
     "text": [
      "WARNING:tensorflow:From C:\\Anaconda3\\envs\\dsmldl\\lib\\site-packages\\tensorflow\\python\\framework\\op_def_library.py:263: colocate_with (from tensorflow.python.framework.ops) is deprecated and will be removed in a future version.\n",
      "Instructions for updating:\n",
      "Colocations handled automatically by placer.\n",
      "WARNING:tensorflow:From C:\\Anaconda3\\envs\\dsmldl\\lib\\site-packages\\keras\\backend\\tensorflow_backend.py:3445: calling dropout (from tensorflow.python.ops.nn_ops) with keep_prob is deprecated and will be removed in a future version.\n",
      "Instructions for updating:\n",
      "Please use `rate` instead of `keep_prob`. Rate should be set to `rate = 1 - keep_prob`.\n"
     ]
    }
   ],
   "source": [
    "clf.add(Dense(units=400, activation='relu', input_dim=598))\n",
    "clf.add(BatchNormalization())\n",
    "clf.add(Dropout(rate=0.25))"
   ]
  },
  {
   "cell_type": "code",
   "execution_count": 9,
   "metadata": {},
   "outputs": [],
   "source": [
    "clf.add(Dense(units=400, activation='relu'))\n",
    "clf.add(BatchNormalization())\n",
    "clf.add(Dropout(rate=0.25))"
   ]
  },
  {
   "cell_type": "code",
   "execution_count": 10,
   "metadata": {},
   "outputs": [],
   "source": [
    "clf.add(Dense(units=400, activation='relu'))\n",
    "clf.add(BatchNormalization())\n",
    "clf.add(Dropout(rate=0.25))"
   ]
  },
  {
   "cell_type": "code",
   "execution_count": 11,
   "metadata": {},
   "outputs": [],
   "source": [
    "clf.add(Dense(units=1, activation='sigmoid'))"
   ]
  },
  {
   "cell_type": "code",
   "execution_count": 12,
   "metadata": {},
   "outputs": [],
   "source": [
    "clf.compile(optimizer='rmsprop', loss='binary_crossentropy', metrics=['accuracy'])"
   ]
  },
  {
   "cell_type": "code",
   "execution_count": 13,
   "metadata": {},
   "outputs": [
    {
     "name": "stdout",
     "output_type": "stream",
     "text": [
      "_________________________________________________________________\n",
      "Layer (type)                 Output Shape              Param #   \n",
      "=================================================================\n",
      "dense_1 (Dense)              (None, 400)               239600    \n",
      "_________________________________________________________________\n",
      "batch_normalization_1 (Batch (None, 400)               1600      \n",
      "_________________________________________________________________\n",
      "dropout_1 (Dropout)          (None, 400)               0         \n",
      "_________________________________________________________________\n",
      "dense_2 (Dense)              (None, 400)               160400    \n",
      "_________________________________________________________________\n",
      "batch_normalization_2 (Batch (None, 400)               1600      \n",
      "_________________________________________________________________\n",
      "dropout_2 (Dropout)          (None, 400)               0         \n",
      "_________________________________________________________________\n",
      "dense_3 (Dense)              (None, 400)               160400    \n",
      "_________________________________________________________________\n",
      "batch_normalization_3 (Batch (None, 400)               1600      \n",
      "_________________________________________________________________\n",
      "dropout_3 (Dropout)          (None, 400)               0         \n",
      "_________________________________________________________________\n",
      "dense_4 (Dense)              (None, 1)                 401       \n",
      "=================================================================\n",
      "Total params: 565,601\n",
      "Trainable params: 563,201\n",
      "Non-trainable params: 2,400\n",
      "_________________________________________________________________\n"
     ]
    }
   ],
   "source": [
    "clf.summary()"
   ]
  },
  {
   "cell_type": "code",
   "execution_count": 14,
   "metadata": {},
   "outputs": [
    {
     "name": "stdout",
     "output_type": "stream",
     "text": [
      "WARNING:tensorflow:From C:\\Anaconda3\\envs\\dsmldl\\lib\\site-packages\\tensorflow\\python\\ops\\math_ops.py:3066: to_int32 (from tensorflow.python.ops.math_ops) is deprecated and will be removed in a future version.\n",
      "Instructions for updating:\n",
      "Use tf.cast instead.\n",
      "Train on 472432 samples, validate on 118108 samples\n",
      "Epoch 1/100\n",
      "472432/472432 [==============================] - 46s 98us/step - loss: 0.1237 - acc: 0.9674 - val_loss: 0.1167 - val_acc: 0.9701\n",
      "Epoch 2/100\n",
      "472432/472432 [==============================] - 45s 96us/step - loss: 0.1108 - acc: 0.9716 - val_loss: 0.1182 - val_acc: 0.9700\n",
      "Epoch 3/100\n",
      "472432/472432 [==============================] - 45s 96us/step - loss: 0.1085 - acc: 0.9722 - val_loss: 0.2640 - val_acc: 0.9602\n",
      "Epoch 4/100\n",
      "472432/472432 [==============================] - 45s 96us/step - loss: 0.1071 - acc: 0.9724 - val_loss: 0.2715 - val_acc: 0.9597\n",
      "Epoch 5/100\n",
      "472432/472432 [==============================] - 45s 96us/step - loss: 0.1066 - acc: 0.9727 - val_loss: 0.2722 - val_acc: 0.9596\n",
      "Epoch 6/100\n",
      "472432/472432 [==============================] - 45s 96us/step - loss: 0.1053 - acc: 0.9727 - val_loss: 0.2753 - val_acc: 0.9596\n",
      "\n",
      "Epoch 00006: ReduceLROnPlateau reducing learning rate to 0.00010000000474974513.\n",
      "Epoch 7/100\n",
      "472432/472432 [==============================] - 46s 96us/step - loss: 0.1025 - acc: 0.9736 - val_loss: 0.2759 - val_acc: 0.9596\n",
      "Epoch 8/100\n",
      "472432/472432 [==============================] - 46s 96us/step - loss: 0.1021 - acc: 0.9739 - val_loss: 0.2776 - val_acc: 0.9596\n",
      "Epoch 9/100\n",
      "472432/472432 [==============================] - 46s 97us/step - loss: 0.1020 - acc: 0.9739 - val_loss: 0.2766 - val_acc: 0.9597\n",
      "Epoch 10/100\n",
      "472432/472432 [==============================] - 46s 97us/step - loss: 0.1018 - acc: 0.9740 - val_loss: 0.2775 - val_acc: 0.9597\n",
      "Epoch 11/100\n",
      "472432/472432 [==============================] - 46s 97us/step - loss: 0.1016 - acc: 0.9741 - val_loss: 0.2768 - val_acc: 0.9596\n",
      "Epoch 12/100\n",
      "472432/472432 [==============================] - 46s 97us/step - loss: 0.1014 - acc: 0.9740 - val_loss: 0.2760 - val_acc: 0.9598\n",
      "Epoch 13/100\n",
      "472432/472432 [==============================] - 46s 97us/step - loss: 0.1013 - acc: 0.9742 - val_loss: 0.2768 - val_acc: 0.9597\n",
      "Epoch 14/100\n",
      "472432/472432 [==============================] - 46s 97us/step - loss: 0.1013 - acc: 0.9741 - val_loss: 0.2754 - val_acc: 0.9597\n",
      "Epoch 15/100\n",
      "472432/472432 [==============================] - 46s 98us/step - loss: 0.1012 - acc: 0.9741 - val_loss: 0.2759 - val_acc: 0.9598\n",
      "Epoch 16/100\n",
      "472432/472432 [==============================] - 46s 98us/step - loss: 0.1008 - acc: 0.9742 - val_loss: 0.2764 - val_acc: 0.9598\n",
      "Epoch 17/100\n",
      "472432/472432 [==============================] - 46s 98us/step - loss: 0.1010 - acc: 0.9742 - val_loss: 0.2757 - val_acc: 0.9596\n",
      "Epoch 18/100\n",
      "472432/472432 [==============================] - 46s 97us/step - loss: 0.1009 - acc: 0.9743 - val_loss: 0.2758 - val_acc: 0.9598\n",
      "Epoch 19/100\n",
      "472432/472432 [==============================] - 46s 97us/step - loss: 0.1008 - acc: 0.9743 - val_loss: 0.2755 - val_acc: 0.9599\n",
      "Epoch 20/100\n",
      "472432/472432 [==============================] - 48s 102us/step - loss: 0.1007 - acc: 0.9743 - val_loss: 0.2770 - val_acc: 0.9593\n",
      "\n",
      "Epoch 00020: ReduceLROnPlateau reducing learning rate to 1.0000000474974514e-05.\n",
      "Epoch 21/100\n",
      "472432/472432 [==============================] - 47s 98us/step - loss: 0.1004 - acc: 0.9744 - val_loss: 0.2770 - val_acc: 0.9594\n"
     ]
    }
   ],
   "source": [
    "history = clf.fit(Xtrain, Ytrain, epochs=100, batch_size=64, validation_split=0.2, shuffle=True, callbacks=callbacks)"
   ]
  },
  {
   "cell_type": "code",
   "execution_count": 15,
   "metadata": {},
   "outputs": [
    {
     "name": "stdout",
     "output_type": "stream",
     "text": [
      "590540/590540 [==============================] - 20s 33us/step\n"
     ]
    },
    {
     "data": {
      "text/plain": [
       "[0.10965322987013251, 0.9711806143529651]"
      ]
     },
     "execution_count": 15,
     "metadata": {},
     "output_type": "execute_result"
    }
   ],
   "source": [
    "clf.evaluate(Xtrain,Ytrain)"
   ]
  },
  {
   "cell_type": "code",
   "execution_count": 16,
   "metadata": {},
   "outputs": [],
   "source": [
    "clf.save('clf_ANN_modv2.h5')"
   ]
  },
  {
   "cell_type": "code",
   "execution_count": 17,
   "metadata": {},
   "outputs": [
    {
     "data": {
      "image/png": "[encoded data removed]",
      "text/plain": [
       "<Figure size 360x288 with 1 Axes>"
      ]
     },
     "metadata": {
      "needs_background": "light"
     },
     "output_type": "display_data"
    }
   ],
   "source": [
    "# Plot training & validation accuracy values\n",
    "plt.figure(figsize=(5, 4))\n",
    "plt.plot(history.history['acc'])\n",
    "plt.plot(history.history['val_acc'])\n",
    "plt.title('Model accuracy')\n",
    "plt.ylabel('Accuracy')\n",
    "plt.xlabel('Epoch')\n",
    "plt.legend(['Train', 'Test'], loc='upper left')\n",
    "plt.show()"
   ]
  },
  {
   "cell_type": "code",
   "execution_count": 18,
   "metadata": {},
   "outputs": [
    {
     "data": {
      "image/png": "[encoded data removed]",
      "text/plain": [
       "<Figure size 360x288 with 1 Axes>"
      ]
     },
     "metadata": {
      "needs_background": "light"
     },
     "output_type": "display_data"
    }
   ],
   "source": [
    "# Plot training & validation loss values\n",
    "plt.figure(figsize=(5, 4))\n",
    "plt.plot(history.history['loss'])\n",
    "plt.plot(history.history['val_loss'])\n",
    "plt.title('Model loss')\n",
    "plt.ylabel('Loss')\n",
    "plt.xlabel('Epoch')\n",
    "plt.legend(['Train', 'Test'], loc='upper left')\n",
    "plt.show()"
   ]
  },
  {
   "cell_type": "code",
   "execution_count": 19,
   "metadata": {},
   "outputs": [],
   "source": [
    "from sklearn.metrics import log_loss, classification_report, confusion_matrix"
   ]
  },
  {
   "cell_type": "code",
   "execution_count": 20,
   "metadata": {},
   "outputs": [],
   "source": [
    "Ytrain_ = clf.predict(Xtrain) > 0.5"
   ]
  },
  {
   "cell_type": "code",
   "execution_count": 21,
   "metadata": {},
   "outputs": [
    {
     "name": "stdout",
     "output_type": "stream",
     "text": [
      "0.9953873809539837\n",
      "[[569091    786]\n",
      " [ 16233   4430]]\n",
      "              precision    recall  f1-score   support\n",
      "\n",
      "           0       0.97      1.00      0.99    569877\n",
      "           1       0.85      0.21      0.34     20663\n",
      "\n",
      "    accuracy                           0.97    590540\n",
      "   macro avg       0.91      0.61      0.66    590540\n",
      "weighted avg       0.97      0.97      0.96    590540\n",
      "\n"
     ]
    }
   ],
   "source": [
    "print(log_loss(Ytrain, Ytrain_))\n",
    "print(confusion_matrix(Ytrain, Ytrain_))\n",
    "print(classification_report(Ytrain, Ytrain_))"
   ]
  },
  {
   "cell_type": "code",
   "execution_count": 22,
   "metadata": {},
   "outputs": [],
   "source": [
    "del(Xtrain)\n",
    "del(Ytrain)"
   ]
  },
  {
   "cell_type": "code",
   "execution_count": 23,
   "metadata": {},
   "outputs": [],
   "source": [
    "Xtest = pickle.load(open('Xtest_ANN.data', 'rb'))"
   ]
  },
  {
   "cell_type": "code",
   "execution_count": null,
   "metadata": {},
   "outputs": [],
   "source": [
    "Ytest_ = clf.predict(Xtest)\n",
    "del(Xtest)"
   ]
  },
  {
   "cell_type": "code",
   "execution_count": null,
   "metadata": {},
   "outputs": [],
   "source": [
    "Ytest_"
   ]
  },
  {
   "cell_type": "code",
   "execution_count": null,
   "metadata": {},
   "outputs": [],
   "source": [
    "submission = pd.read_csv('./raw/sample_submission.csv', index_col='TransactionID')"
   ]
  },
  {
   "cell_type": "code",
   "execution_count": null,
   "metadata": {},
   "outputs": [],
   "source": [
    "submission.count()"
   ]
  },
  {
   "cell_type": "code",
   "execution_count": null,
   "metadata": {},
   "outputs": [],
   "source": [
    "submission['isFraud'] = Ytest_\n",
    "submission.head()"
   ]
  },
  {
   "cell_type": "code",
   "execution_count": null,
   "metadata": {},
   "outputs": [],
   "source": [
    "submission.to_csv('predicted_ANN_modv2.csv')"
   ]
  },
  {
   "cell_type": "code",
   "execution_count": null,
   "metadata": {},
   "outputs": [],
   "source": [
    "submission[submission['isFraud'] > 0.5].count()"
   ]
  },
  {
   "cell_type": "code",
   "execution_count": null,
   "metadata": {},
   "outputs": [],
   "source": []
  }
 ],
 "metadata": {
  "kernelspec": {
   "display_name": "Python 3",
   "language": "python",
   "name": "python3"
  },
  "language_info": {
   "codemirror_mode": {
    "name": "ipython",
    "version": 3
   },
   "file_extension": ".py",
   "mimetype": "text/x-python",
   "name": "python",
   "nbconvert_exporter": "python",
   "pygments_lexer": "ipython3",
   "version": "3.6.9"
  }
 },
 "nbformat": 4,
 "nbformat_minor": 4
}
