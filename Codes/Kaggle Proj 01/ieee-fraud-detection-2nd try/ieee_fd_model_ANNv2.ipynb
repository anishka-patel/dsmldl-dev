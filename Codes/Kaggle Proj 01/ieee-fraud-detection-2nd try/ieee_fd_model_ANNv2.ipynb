{
 "cells": [
  {
   "cell_type": "code",
   "execution_count": 1,
   "metadata": {},
   "outputs": [],
   "source": [
    "import pandas as pd\n",
    "import numpy as np\n",
    "import pickle"
   ]
  },
  {
   "cell_type": "code",
   "execution_count": 2,
   "metadata": {},
   "outputs": [],
   "source": [
    "Xtrain = pickle.load(open('Xtrain_ANN.data', 'rb'))\n",
    "Ytrain = pickle.load(open('Ytrain_ANN.data', 'rb'))"
   ]
  },
  {
   "cell_type": "code",
   "execution_count": 3,
   "metadata": {},
   "outputs": [
    {
     "name": "stderr",
     "output_type": "stream",
     "text": [
      "Using TensorFlow backend.\n"
     ]
    }
   ],
   "source": [
    "from keras.models import Sequential\n",
    "from keras.layers import Dense, Dropout\n",
    "from keras import optimizers"
   ]
  },
  {
   "cell_type": "code",
   "execution_count": 4,
   "metadata": {},
   "outputs": [
    {
     "name": "stderr",
     "output_type": "stream",
     "text": [
      "WARNING: Logging before flag parsing goes to stderr.\n",
      "W0830 17:30:28.849338  5576 deprecation_wrapper.py:119] From C:\\Anaconda3\\envs\\Mine\\lib\\site-packages\\keras\\backend\\tensorflow_backend.py:74: The name tf.get_default_graph is deprecated. Please use tf.compat.v1.get_default_graph instead.\n",
      "\n"
     ]
    }
   ],
   "source": [
    "clf = Sequential()"
   ]
  },
  {
   "cell_type": "code",
   "execution_count": 5,
   "metadata": {},
   "outputs": [
    {
     "name": "stderr",
     "output_type": "stream",
     "text": [
      "W0830 17:30:28.876364  5576 deprecation_wrapper.py:119] From C:\\Anaconda3\\envs\\Mine\\lib\\site-packages\\keras\\backend\\tensorflow_backend.py:517: The name tf.placeholder is deprecated. Please use tf.compat.v1.placeholder instead.\n",
      "\n",
      "W0830 17:30:28.879367  5576 deprecation_wrapper.py:119] From C:\\Anaconda3\\envs\\Mine\\lib\\site-packages\\keras\\backend\\tensorflow_backend.py:4138: The name tf.random_uniform is deprecated. Please use tf.random.uniform instead.\n",
      "\n",
      "W0830 17:30:28.896382  5576 deprecation_wrapper.py:119] From C:\\Anaconda3\\envs\\Mine\\lib\\site-packages\\keras\\backend\\tensorflow_backend.py:133: The name tf.placeholder_with_default is deprecated. Please use tf.compat.v1.placeholder_with_default instead.\n",
      "\n",
      "W0830 17:30:28.906391  5576 deprecation.py:506] From C:\\Anaconda3\\envs\\Mine\\lib\\site-packages\\keras\\backend\\tensorflow_backend.py:3445: calling dropout (from tensorflow.python.ops.nn_ops) with keep_prob is deprecated and will be removed in a future version.\n",
      "Instructions for updating:\n",
      "Please use `rate` instead of `keep_prob`. Rate should be set to `rate = 1 - keep_prob`.\n"
     ]
    }
   ],
   "source": [
    "clf.add(Dense(units=400, activation='relu', kernel_initializer='random_uniform', bias_initializer='ones', input_dim=598))\n",
    "clf.add(Dropout(rate=0.2))"
   ]
  },
  {
   "cell_type": "code",
   "execution_count": 6,
   "metadata": {},
   "outputs": [],
   "source": [
    "clf.add(Dense(units=400, activation='relu', kernel_initializer='random_uniform', bias_initializer='ones'))"
   ]
  },
  {
   "cell_type": "code",
   "execution_count": 7,
   "metadata": {},
   "outputs": [],
   "source": [
    "clf.add(Dense(units=1, activation='sigmoid', kernel_initializer='uniform'))"
   ]
  },
  {
   "cell_type": "code",
   "execution_count": 8,
   "metadata": {},
   "outputs": [],
   "source": [
    "opt_adam = optimizers.Adam(lr=0.001, epsilon=1e-8)"
   ]
  },
  {
   "cell_type": "code",
   "execution_count": 9,
   "metadata": {},
   "outputs": [
    {
     "name": "stderr",
     "output_type": "stream",
     "text": [
      "W0830 17:30:29.009486  5576 deprecation_wrapper.py:119] From C:\\Anaconda3\\envs\\Mine\\lib\\site-packages\\keras\\optimizers.py:790: The name tf.train.Optimizer is deprecated. Please use tf.compat.v1.train.Optimizer instead.\n",
      "\n",
      "W0830 17:30:29.018493  5576 deprecation_wrapper.py:119] From C:\\Anaconda3\\envs\\Mine\\lib\\site-packages\\keras\\backend\\tensorflow_backend.py:3376: The name tf.log is deprecated. Please use tf.math.log instead.\n",
      "\n",
      "W0830 17:30:29.025499  5576 deprecation.py:323] From C:\\Anaconda3\\envs\\Mine\\lib\\site-packages\\tensorflow\\python\\ops\\nn_impl.py:180: add_dispatch_support.<locals>.wrapper (from tensorflow.python.ops.array_ops) is deprecated and will be removed in a future version.\n",
      "Instructions for updating:\n",
      "Use tf.where in 2.0, which has the same broadcast rule as np.where\n"
     ]
    }
   ],
   "source": [
    "clf.compile(optimizer=opt_adam, loss='binary_crossentropy', metrics=['accuracy'])"
   ]
  },
  {
   "cell_type": "code",
   "execution_count": 10,
   "metadata": {
    "scrolled": true
   },
   "outputs": [
    {
     "name": "stdout",
     "output_type": "stream",
     "text": [
      "Train on 531486 samples, validate on 59054 samples\n",
      "Epoch 1/50\n",
      "531486/531486 [==============================] - 34s 64us/step - loss: 0.1129 - acc: 0.9702 - val_loss: 0.1179 - val_acc: 0.9681\n",
      "Epoch 2/50\n",
      "531486/531486 [==============================] - 32s 60us/step - loss: 0.1037 - acc: 0.9721 - val_loss: 0.1121 - val_acc: 0.9692\n",
      "Epoch 3/50\n",
      "531486/531486 [==============================] - 32s 60us/step - loss: 0.0996 - acc: 0.9733 - val_loss: 0.1099 - val_acc: 0.9693\n",
      "Epoch 4/50\n",
      "531486/531486 [==============================] - 32s 60us/step - loss: 0.0965 - acc: 0.9741 - val_loss: 0.1087 - val_acc: 0.9692\n",
      "Epoch 5/50\n",
      "531486/531486 [==============================] - 32s 60us/step - loss: 0.0944 - acc: 0.9746 - val_loss: 0.1087 - val_acc: 0.9691\n",
      "Epoch 6/50\n",
      "531486/531486 [==============================] - 31s 58us/step - loss: 0.0920 - acc: 0.9751 - val_loss: 0.1095 - val_acc: 0.9701\n",
      "Epoch 7/50\n",
      "531486/531486 [==============================] - 31s 58us/step - loss: 0.0903 - acc: 0.9757 - val_loss: 0.1111 - val_acc: 0.9701\n",
      "Epoch 8/50\n",
      "531486/531486 [==============================] - 31s 58us/step - loss: 0.0888 - acc: 0.9761 - val_loss: 0.1131 - val_acc: 0.9696\n",
      "Epoch 9/50\n",
      "531486/531486 [==============================] - 32s 60us/step - loss: 0.0877 - acc: 0.9765 - val_loss: 0.1150 - val_acc: 0.9691\n",
      "Epoch 10/50\n",
      "531486/531486 [==============================] - 31s 58us/step - loss: 0.0862 - acc: 0.9768 - val_loss: 0.1158 - val_acc: 0.9697\n",
      "Epoch 11/50\n",
      "531486/531486 [==============================] - 31s 58us/step - loss: 0.0852 - acc: 0.9771 - val_loss: 0.1144 - val_acc: 0.9705\n",
      "Epoch 12/50\n",
      "531486/531486 [==============================] - 31s 58us/step - loss: 0.0842 - acc: 0.9774 - val_loss: 0.1125 - val_acc: 0.9706\n",
      "Epoch 13/50\n",
      "531486/531486 [==============================] - 31s 59us/step - loss: 0.0832 - acc: 0.9776 - val_loss: 0.1837 - val_acc: 0.9642\n",
      "Epoch 14/50\n",
      "531486/531486 [==============================] - 31s 59us/step - loss: 0.0824 - acc: 0.9778 - val_loss: 0.1125 - val_acc: 0.9705\n",
      "Epoch 15/50\n",
      "531486/531486 [==============================] - 31s 59us/step - loss: 0.0815 - acc: 0.9780 - val_loss: 0.1162 - val_acc: 0.9706\n",
      "Epoch 16/50\n",
      "531486/531486 [==============================] - 31s 59us/step - loss: 0.0806 - acc: 0.9782 - val_loss: 0.1451 - val_acc: 0.9666\n",
      "Epoch 17/50\n",
      "531486/531486 [==============================] - 32s 59us/step - loss: 0.0800 - acc: 0.9784 - val_loss: 0.1127 - val_acc: 0.9708\n",
      "Epoch 18/50\n",
      "531486/531486 [==============================] - 32s 60us/step - loss: 0.0795 - acc: 0.9787 - val_loss: 0.1115 - val_acc: 0.9704\n",
      "Epoch 19/50\n",
      "531486/531486 [==============================] - 32s 60us/step - loss: 0.0784 - acc: 0.9787 - val_loss: 0.1152 - val_acc: 0.9709\n",
      "Epoch 20/50\n",
      "531486/531486 [==============================] - 32s 60us/step - loss: 0.0781 - acc: 0.9788 - val_loss: 0.1101 - val_acc: 0.9710\n",
      "Epoch 21/50\n",
      "531486/531486 [==============================] - 32s 59us/step - loss: 0.0772 - acc: 0.9790 - val_loss: 0.1211 - val_acc: 0.9698\n",
      "Epoch 22/50\n",
      "531486/531486 [==============================] - 32s 60us/step - loss: 0.0768 - acc: 0.9792 - val_loss: 0.1183 - val_acc: 0.9701\n",
      "Epoch 23/50\n",
      "531486/531486 [==============================] - 32s 60us/step - loss: 0.0761 - acc: 0.9793 - val_loss: 0.1154 - val_acc: 0.9708\n",
      "Epoch 24/50\n",
      "531486/531486 [==============================] - 32s 60us/step - loss: 0.0754 - acc: 0.9795 - val_loss: 0.1141 - val_acc: 0.9703\n",
      "Epoch 25/50\n",
      "531486/531486 [==============================] - 32s 59us/step - loss: 0.0752 - acc: 0.9797 - val_loss: 0.1127 - val_acc: 0.9704\n",
      "Epoch 26/50\n",
      "531486/531486 [==============================] - 32s 59us/step - loss: 0.0745 - acc: 0.9797 - val_loss: 0.1164 - val_acc: 0.9715\n",
      "Epoch 27/50\n",
      "531486/531486 [==============================] - 32s 59us/step - loss: 0.0741 - acc: 0.9799 - val_loss: 0.1164 - val_acc: 0.9695\n",
      "Epoch 28/50\n",
      "531486/531486 [==============================] - 32s 60us/step - loss: 0.0735 - acc: 0.9801 - val_loss: 0.1138 - val_acc: 0.9710\n",
      "Epoch 29/50\n",
      "531486/531486 [==============================] - 32s 59us/step - loss: 0.0730 - acc: 0.9801 - val_loss: 0.1152 - val_acc: 0.9704\n",
      "Epoch 30/50\n",
      "531486/531486 [==============================] - 32s 60us/step - loss: 0.0726 - acc: 0.9803 - val_loss: 0.1137 - val_acc: 0.9716\n",
      "Epoch 31/50\n",
      "531486/531486 [==============================] - 31s 58us/step - loss: 0.0722 - acc: 0.9804 - val_loss: 0.1163 - val_acc: 0.9707\n",
      "Epoch 32/50\n",
      "531486/531486 [==============================] - 31s 58us/step - loss: 0.0719 - acc: 0.9804 - val_loss: 0.1137 - val_acc: 0.9711\n",
      "Epoch 33/50\n",
      "531486/531486 [==============================] - 31s 58us/step - loss: 0.0710 - acc: 0.9806 - val_loss: 0.1178 - val_acc: 0.9708\n",
      "Epoch 34/50\n",
      "531486/531486 [==============================] - 32s 59us/step - loss: 0.0709 - acc: 0.9807 - val_loss: 0.1199 - val_acc: 0.9701\n",
      "Epoch 35/50\n",
      "531486/531486 [==============================] - 32s 60us/step - loss: 0.0705 - acc: 0.9808 - val_loss: 0.1169 - val_acc: 0.9715\n",
      "Epoch 36/50\n",
      "531486/531486 [==============================] - 32s 60us/step - loss: 0.0696 - acc: 0.9810 - val_loss: 0.1157 - val_acc: 0.9703\n",
      "Epoch 37/50\n",
      "531486/531486 [==============================] - 32s 60us/step - loss: 0.0696 - acc: 0.9810 - val_loss: 0.1128 - val_acc: 0.9716\n",
      "Epoch 38/50\n",
      "531486/531486 [==============================] - 32s 60us/step - loss: 0.0690 - acc: 0.9812 - val_loss: 0.1149 - val_acc: 0.9707\n",
      "Epoch 39/50\n",
      "531486/531486 [==============================] - 32s 60us/step - loss: 0.0687 - acc: 0.9812 - val_loss: 0.1121 - val_acc: 0.9719\n",
      "Epoch 40/50\n",
      "531486/531486 [==============================] - 32s 60us/step - loss: 0.0686 - acc: 0.9813 - val_loss: 0.1114 - val_acc: 0.9719\n",
      "Epoch 41/50\n",
      "531486/531486 [==============================] - 32s 60us/step - loss: 0.0681 - acc: 0.9814 - val_loss: 0.1127 - val_acc: 0.9714\n",
      "Epoch 42/50\n",
      "531486/531486 [==============================] - 32s 60us/step - loss: 0.0678 - acc: 0.9814 - val_loss: 0.1138 - val_acc: 0.9720\n",
      "Epoch 43/50\n",
      "531486/531486 [==============================] - 32s 61us/step - loss: 0.0674 - acc: 0.9815 - val_loss: 0.1183 - val_acc: 0.9716\n",
      "Epoch 44/50\n",
      "531486/531486 [==============================] - 32s 60us/step - loss: 0.0675 - acc: 0.9816 - val_loss: 0.1213 - val_acc: 0.9712\n",
      "Epoch 45/50\n",
      "531486/531486 [==============================] - 32s 60us/step - loss: 0.0667 - acc: 0.9818 - val_loss: 0.1125 - val_acc: 0.9713\n",
      "Epoch 46/50\n",
      "531486/531486 [==============================] - 32s 60us/step - loss: 0.0665 - acc: 0.9817 - val_loss: 0.1156 - val_acc: 0.9718\n",
      "Epoch 47/50\n",
      "531486/531486 [==============================] - 32s 60us/step - loss: 0.0659 - acc: 0.9821 - val_loss: 0.1158 - val_acc: 0.9710\n",
      "Epoch 48/50\n",
      "531486/531486 [==============================] - 32s 59us/step - loss: 0.0658 - acc: 0.9819 - val_loss: 0.1162 - val_acc: 0.9710\n",
      "Epoch 49/50\n",
      "531486/531486 [==============================] - 32s 60us/step - loss: 0.0656 - acc: 0.9821 - val_loss: 0.1183 - val_acc: 0.9715\n",
      "Epoch 50/50\n",
      "531486/531486 [==============================] - 32s 60us/step - loss: 0.0653 - acc: 0.9822 - val_loss: 0.1137 - val_acc: 0.9719\n"
     ]
    },
    {
     "data": {
      "text/plain": [
       "<keras.callbacks.History at 0x135e2d4fbe0>"
      ]
     },
     "execution_count": 10,
     "metadata": {},
     "output_type": "execute_result"
    }
   ],
   "source": [
    "clf.fit(Xtrain, Ytrain, epochs=50, batch_size=128, validation_split=0.1, shuffle=True)"
   ]
  },
  {
   "cell_type": "code",
   "execution_count": 11,
   "metadata": {},
   "outputs": [
    {
     "name": "stdout",
     "output_type": "stream",
     "text": [
      "590540/590540 [==============================] - 22s 37us/step\n"
     ]
    },
    {
     "data": {
      "text/plain": [
       "[0.06393590673835699, 0.9826954990347817]"
      ]
     },
     "execution_count": 11,
     "metadata": {},
     "output_type": "execute_result"
    }
   ],
   "source": [
    "clf.evaluate(Xtrain,Ytrain)"
   ]
  },
  {
   "cell_type": "code",
   "execution_count": 12,
   "metadata": {},
   "outputs": [
    {
     "name": "stdout",
     "output_type": "stream",
     "text": [
      "_________________________________________________________________\n",
      "Layer (type)                 Output Shape              Param #   \n",
      "=================================================================\n",
      "dense_1 (Dense)              (None, 400)               239600    \n",
      "_________________________________________________________________\n",
      "dropout_1 (Dropout)          (None, 400)               0         \n",
      "_________________________________________________________________\n",
      "dense_2 (Dense)              (None, 400)               160400    \n",
      "_________________________________________________________________\n",
      "dense_3 (Dense)              (None, 1)                 401       \n",
      "=================================================================\n",
      "Total params: 400,401\n",
      "Trainable params: 400,401\n",
      "Non-trainable params: 0\n",
      "_________________________________________________________________\n"
     ]
    }
   ],
   "source": [
    "pickle.dump(clf, open('clf_ANN_v2.model', 'wb'))\n",
    "clf.save('clf_ANN_v2.h5')\n",
    "clf.summary()"
   ]
  },
  {
   "cell_type": "code",
   "execution_count": 13,
   "metadata": {},
   "outputs": [],
   "source": [
    "from sklearn.metrics import log_loss, classification_report, confusion_matrix"
   ]
  },
  {
   "cell_type": "code",
   "execution_count": 14,
   "metadata": {},
   "outputs": [],
   "source": [
    "Ytrain_ = clf.predict(Xtrain) > 0.5"
   ]
  },
  {
   "cell_type": "code",
   "execution_count": 15,
   "metadata": {},
   "outputs": [
    {
     "name": "stdout",
     "output_type": "stream",
     "text": [
      "0.5976771966503048\n",
      "[[569207    670]\n",
      " [  9549  11114]]\n",
      "              precision    recall  f1-score   support\n",
      "\n",
      "           0       0.98      1.00      0.99    569877\n",
      "           1       0.94      0.54      0.69     20663\n",
      "\n",
      "    accuracy                           0.98    590540\n",
      "   macro avg       0.96      0.77      0.84    590540\n",
      "weighted avg       0.98      0.98      0.98    590540\n",
      "\n"
     ]
    }
   ],
   "source": [
    "print(log_loss(Ytrain, Ytrain_))\n",
    "print(confusion_matrix(Ytrain, Ytrain_))\n",
    "print(classification_report(Ytrain, Ytrain_))"
   ]
  },
  {
   "cell_type": "code",
   "execution_count": 16,
   "metadata": {},
   "outputs": [],
   "source": [
    "del(Xtrain)\n",
    "del(Ytrain)"
   ]
  },
  {
   "cell_type": "code",
   "execution_count": 17,
   "metadata": {},
   "outputs": [],
   "source": [
    "Xtest = pickle.load(open('Xtest_ANN.data', 'rb'))"
   ]
  },
  {
   "cell_type": "code",
   "execution_count": 18,
   "metadata": {},
   "outputs": [],
   "source": [
    "Ytest_ = clf.predict(Xtest)\n",
    "del(Xtest)"
   ]
  },
  {
   "cell_type": "code",
   "execution_count": 19,
   "metadata": {},
   "outputs": [
    {
     "data": {
      "text/plain": [
       "array([[0.01126766],\n",
       "       [0.0002811 ],\n",
       "       [0.00012514],\n",
       "       ...,\n",
       "       [0.00038027],\n",
       "       [0.00049442],\n",
       "       [0.01950039]], dtype=float32)"
      ]
     },
     "execution_count": 19,
     "metadata": {},
     "output_type": "execute_result"
    }
   ],
   "source": [
    "Ytest_"
   ]
  },
  {
   "cell_type": "code",
   "execution_count": 20,
   "metadata": {},
   "outputs": [],
   "source": [
    "submission = pd.read_csv('./raw/sample_submission.csv', index_col='TransactionID')"
   ]
  },
  {
   "cell_type": "code",
   "execution_count": 21,
   "metadata": {},
   "outputs": [
    {
     "data": {
      "text/plain": [
       "isFraud    506691\n",
       "dtype: int64"
      ]
     },
     "execution_count": 21,
     "metadata": {},
     "output_type": "execute_result"
    }
   ],
   "source": [
    "submission.count()"
   ]
  },
  {
   "cell_type": "code",
   "execution_count": 22,
   "metadata": {},
   "outputs": [
    {
     "data": {
      "text/html": [
       "<div>\n",
       "<style scoped>\n",
       "    .dataframe tbody tr th:only-of-type {\n",
       "        vertical-align: middle;\n",
       "    }\n",
       "\n",
       "    .dataframe tbody tr th {\n",
       "        vertical-align: top;\n",
       "    }\n",
       "\n",
       "    .dataframe thead th {\n",
       "        text-align: right;\n",
       "    }\n",
       "</style>\n",
       "<table border=\"1\" class=\"dataframe\">\n",
       "  <thead>\n",
       "    <tr style=\"text-align: right;\">\n",
       "      <th></th>\n",
       "      <th>isFraud</th>\n",
       "    </tr>\n",
       "    <tr>\n",
       "      <th>TransactionID</th>\n",
       "      <th></th>\n",
       "    </tr>\n",
       "  </thead>\n",
       "  <tbody>\n",
       "    <tr>\n",
       "      <th>3663549</th>\n",
       "      <td>0.011268</td>\n",
       "    </tr>\n",
       "    <tr>\n",
       "      <th>3663550</th>\n",
       "      <td>0.000281</td>\n",
       "    </tr>\n",
       "    <tr>\n",
       "      <th>3663551</th>\n",
       "      <td>0.000125</td>\n",
       "    </tr>\n",
       "    <tr>\n",
       "      <th>3663552</th>\n",
       "      <td>0.001276</td>\n",
       "    </tr>\n",
       "    <tr>\n",
       "      <th>3663553</th>\n",
       "      <td>0.004050</td>\n",
       "    </tr>\n",
       "  </tbody>\n",
       "</table>\n",
       "</div>"
      ],
      "text/plain": [
       "                isFraud\n",
       "TransactionID          \n",
       "3663549        0.011268\n",
       "3663550        0.000281\n",
       "3663551        0.000125\n",
       "3663552        0.001276\n",
       "3663553        0.004050"
      ]
     },
     "execution_count": 22,
     "metadata": {},
     "output_type": "execute_result"
    }
   ],
   "source": [
    "submission['isFraud'] = Ytest_\n",
    "submission.head()"
   ]
  },
  {
   "cell_type": "code",
   "execution_count": 23,
   "metadata": {},
   "outputs": [],
   "source": [
    "submission.to_csv('predicted_ANN_v2.csv')"
   ]
  },
  {
   "cell_type": "code",
   "execution_count": 28,
   "metadata": {},
   "outputs": [
    {
     "data": {
      "text/plain": [
       "isFraud    5345\n",
       "dtype: int64"
      ]
     },
     "execution_count": 28,
     "metadata": {},
     "output_type": "execute_result"
    }
   ],
   "source": [
    "submission[submission['isFraud'] > 0.5].count()"
   ]
  },
  {
   "cell_type": "code",
   "execution_count": null,
   "metadata": {},
   "outputs": [],
   "source": []
  }
 ],
 "metadata": {
  "kernelspec": {
   "display_name": "Python 3",
   "language": "python",
   "name": "python3"
  },
  "language_info": {
   "codemirror_mode": {
    "name": "ipython",
    "version": 3
   },
   "file_extension": ".py",
   "mimetype": "text/x-python",
   "name": "python",
   "nbconvert_exporter": "python",
   "pygments_lexer": "ipython3",
   "version": "3.6.9"
  }
 },
 "nbformat": 4,
 "nbformat_minor": 4
}
