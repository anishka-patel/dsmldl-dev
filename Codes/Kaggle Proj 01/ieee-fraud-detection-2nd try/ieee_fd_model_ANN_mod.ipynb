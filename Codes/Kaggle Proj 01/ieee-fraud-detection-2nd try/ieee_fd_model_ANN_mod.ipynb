{
 "cells": [
  {
   "cell_type": "code",
   "execution_count": 1,
   "metadata": {},
   "outputs": [],
   "source": [
    "import pandas as pd\n",
    "import numpy as np\n",
    "import pickle\n",
    "import matplotlib.pyplot as plt"
   ]
  },
  {
   "cell_type": "code",
   "execution_count": 2,
   "metadata": {},
   "outputs": [],
   "source": [
    "Xtrain = pickle.load(open('Xtrain_ANN.data', 'rb'))\n",
    "Ytrain = pickle.load(open('Ytrain_ANN.data', 'rb'))"
   ]
  },
  {
   "cell_type": "code",
   "execution_count": 3,
   "metadata": {},
   "outputs": [],
   "source": [
    "from sklearn.decomposition import PCA"
   ]
  },
  {
   "cell_type": "code",
   "execution_count": 4,
   "metadata": {},
   "outputs": [],
   "source": [
    "pca = PCA(n_components=300)"
   ]
  },
  {
   "cell_type": "code",
   "execution_count": 5,
   "metadata": {},
   "outputs": [
    {
     "data": {
      "text/plain": [
       "PCA(copy=True, iterated_power='auto', n_components=300, random_state=None,\n",
       "    svd_solver='auto', tol=0.0, whiten=False)"
      ]
     },
     "execution_count": 5,
     "metadata": {},
     "output_type": "execute_result"
    }
   ],
   "source": [
    "pca.fit(Xtrain)"
   ]
  },
  {
   "cell_type": "code",
   "execution_count": 6,
   "metadata": {},
   "outputs": [
    {
     "data": {
      "text/plain": [
       "array([1.53691052e+00, 5.16500465e-01, 4.92459618e-01, 4.43202134e-01,\n",
       "       3.99614104e-01, 3.72876303e-01, 3.49042553e-01, 3.04097511e-01,\n",
       "       2.89354770e-01, 2.29071460e-01, 2.04303514e-01, 1.68814109e-01,\n",
       "       1.49785300e-01, 1.32008636e-01, 1.24253536e-01, 1.06538146e-01,\n",
       "       1.05250590e-01, 9.73593581e-02, 9.50140739e-02, 8.82032590e-02,\n",
       "       8.55916831e-02, 8.33136565e-02, 7.05082068e-02, 6.77154448e-02,\n",
       "       6.38925218e-02, 5.75539025e-02, 5.27527954e-02, 4.71630816e-02,\n",
       "       4.58323345e-02, 4.48552047e-02, 4.23772561e-02, 4.02917274e-02,\n",
       "       3.87634370e-02, 3.74488207e-02, 3.64137743e-02, 3.53232128e-02,\n",
       "       3.02068584e-02, 2.74289509e-02, 2.59226469e-02, 2.57677953e-02,\n",
       "       2.36207506e-02, 2.22883593e-02, 2.15980539e-02, 2.01095640e-02,\n",
       "       1.94447804e-02, 1.77831039e-02, 1.71780155e-02, 1.65273082e-02,\n",
       "       1.60715065e-02, 1.52420451e-02, 1.43324478e-02, 1.36315772e-02,\n",
       "       1.28772559e-02, 1.24491177e-02, 1.23427165e-02, 1.21881820e-02,\n",
       "       1.18405499e-02, 1.14317842e-02, 1.12767738e-02, 1.06990875e-02,\n",
       "       1.05557364e-02, 9.80349502e-03, 8.98263733e-03, 8.90886779e-03,\n",
       "       8.39821886e-03, 7.90664988e-03, 7.73450310e-03, 7.50847423e-03,\n",
       "       7.15646505e-03, 6.98998643e-03, 6.81670339e-03, 6.66491172e-03,\n",
       "       6.47883080e-03, 5.85661272e-03, 5.58134582e-03, 5.54604876e-03,\n",
       "       5.46562189e-03, 5.29204241e-03, 4.91664890e-03, 4.80868466e-03,\n",
       "       4.71037544e-03, 4.57426095e-03, 4.42778100e-03, 4.28347588e-03,\n",
       "       4.21489169e-03, 4.05658348e-03, 3.93598615e-03, 3.90654205e-03,\n",
       "       3.67114452e-03, 3.55230549e-03, 3.45167384e-03, 3.32386082e-03,\n",
       "       3.25460534e-03, 3.14749374e-03, 2.99933400e-03, 2.96667158e-03,\n",
       "       2.85467706e-03, 2.83342932e-03, 2.62338215e-03, 2.57573454e-03,\n",
       "       2.50368997e-03, 2.42384565e-03, 2.36124663e-03, 2.22867317e-03,\n",
       "       2.13267065e-03, 2.09355685e-03, 2.02591129e-03, 1.98973713e-03,\n",
       "       1.92583399e-03, 1.85555111e-03, 1.82558311e-03, 1.80320709e-03,\n",
       "       1.75526943e-03, 1.68892983e-03, 1.56014415e-03, 1.50784680e-03,\n",
       "       1.49325432e-03, 1.44936725e-03, 1.40976663e-03, 1.37287491e-03,\n",
       "       1.35450788e-03, 1.32421094e-03, 1.25949116e-03, 1.24966830e-03,\n",
       "       1.23825016e-03, 1.21083905e-03, 1.19817477e-03, 1.18648423e-03,\n",
       "       1.14555658e-03, 1.12109467e-03, 1.04917337e-03, 1.03019533e-03,\n",
       "       1.01547643e-03, 1.01102075e-03, 1.00365443e-03, 9.41104233e-04,\n",
       "       9.37885969e-04, 9.34431205e-04, 9.24893155e-04, 9.12714996e-04,\n",
       "       8.94564245e-04, 8.82523690e-04, 8.61118002e-04, 8.44122948e-04,\n",
       "       8.35796741e-04, 8.22108740e-04, 7.99212341e-04, 7.88035756e-04,\n",
       "       7.87171143e-04, 7.59650697e-04, 7.58174860e-04, 7.42996148e-04,\n",
       "       7.08875549e-04, 7.03936831e-04, 7.01756503e-04, 6.99418837e-04,\n",
       "       6.91887458e-04, 6.85123720e-04, 6.73760262e-04, 6.51007853e-04,\n",
       "       6.16330219e-04, 6.07326856e-04, 6.05034986e-04, 5.98023595e-04,\n",
       "       5.94086656e-04, 5.70723781e-04, 5.63800777e-04, 5.54859942e-04,\n",
       "       5.41520548e-04, 5.37381196e-04, 5.31927208e-04, 5.27671862e-04,\n",
       "       5.23690447e-04, 5.21599848e-04, 5.18214662e-04, 5.13567489e-04,\n",
       "       5.07431543e-04, 5.04906681e-04, 4.87004680e-04, 4.84447203e-04,\n",
       "       4.66031938e-04, 4.59125018e-04, 4.54833888e-04, 4.40231976e-04,\n",
       "       4.37821064e-04, 4.31346452e-04, 4.29341276e-04, 4.25635870e-04,\n",
       "       4.01739527e-04, 3.98018471e-04, 3.84354700e-04, 3.77146144e-04,\n",
       "       3.75660640e-04, 3.73924486e-04, 3.64210364e-04, 3.60338152e-04,\n",
       "       3.57911983e-04, 3.51791002e-04, 3.44182254e-04, 3.37513931e-04,\n",
       "       3.29543795e-04, 3.29371438e-04, 3.24861508e-04, 3.20334885e-04,\n",
       "       3.06322185e-04, 3.03580869e-04, 3.01909342e-04, 3.00015502e-04,\n",
       "       2.95726898e-04, 2.94028218e-04, 2.91841634e-04, 2.80964945e-04,\n",
       "       2.74634304e-04, 2.70579787e-04, 2.68749916e-04, 2.63539148e-04,\n",
       "       2.63255651e-04, 2.57497694e-04, 2.55499787e-04, 2.49052949e-04,\n",
       "       2.46872006e-04, 2.45597475e-04, 2.39934864e-04, 2.37120870e-04,\n",
       "       2.35915485e-04, 2.32200646e-04, 2.23264691e-04, 2.20524269e-04,\n",
       "       2.18627517e-04, 2.17551457e-04, 2.09665255e-04, 2.05884768e-04,\n",
       "       2.02306717e-04, 1.99312499e-04, 1.93319876e-04, 1.91420858e-04,\n",
       "       1.89158743e-04, 1.86839917e-04, 1.86050481e-04, 1.83594876e-04,\n",
       "       1.79399525e-04, 1.79064721e-04, 1.76105723e-04, 1.74477470e-04,\n",
       "       1.71534881e-04, 1.68208871e-04, 1.62618035e-04, 1.60057614e-04,\n",
       "       1.57765999e-04, 1.56264181e-04, 1.55458602e-04, 1.52845480e-04,\n",
       "       1.51443890e-04, 1.50427864e-04, 1.48242388e-04, 1.45621633e-04,\n",
       "       1.41628828e-04, 1.40528178e-04, 1.31406810e-04, 1.28585942e-04,\n",
       "       1.24670176e-04, 1.23246434e-04, 1.21648687e-04, 1.21086015e-04,\n",
       "       1.20721705e-04, 1.18063670e-04, 1.15942777e-04, 1.15571479e-04,\n",
       "       1.12614360e-04, 1.10580671e-04, 1.08909222e-04, 1.08284281e-04,\n",
       "       1.07059633e-04, 1.06142750e-04, 1.03739771e-04, 1.01996153e-04,\n",
       "       9.67674515e-05, 9.50479063e-05, 9.32455664e-05, 9.24095419e-05,\n",
       "       8.99461284e-05, 8.76947590e-05, 8.69707872e-05, 8.60265216e-05,\n",
       "       8.40658159e-05, 8.34739720e-05, 8.29084455e-05, 8.14668409e-05,\n",
       "       8.04574200e-05, 7.94577862e-05, 7.84056394e-05, 7.67978033e-05,\n",
       "       7.46341978e-05, 7.34909099e-05, 7.25335292e-05, 7.03945133e-05,\n",
       "       7.01129989e-05, 6.75998279e-05, 6.70627139e-05, 6.64000414e-05])"
      ]
     },
     "execution_count": 6,
     "metadata": {},
     "output_type": "execute_result"
    }
   ],
   "source": [
    "pca.explained_variance_"
   ]
  },
  {
   "cell_type": "code",
   "execution_count": 7,
   "metadata": {},
   "outputs": [
    {
     "data": {
      "text/plain": [
       "array([952.68336905, 552.28042499, 539.27415161, 511.59373042,\n",
       "       485.78566609, 469.25259601, 454.00797364, 423.77050403,\n",
       "       413.37062837, 367.79835612, 347.34592657, 315.7393151 ,\n",
       "       297.41227537, 279.20646124, 270.88107937, 250.8284875 ,\n",
       "       249.30819895, 239.78010334, 236.87447345, 228.22678272,\n",
       "       224.82265666, 221.81064765, 204.05353693, 199.97152569,\n",
       "       194.24475783, 184.35786944, 176.50094352, 166.88810337,\n",
       "       164.5168106 , 162.75364122, 158.19425543, 154.25250857,\n",
       "       151.29878162, 148.71109277, 146.64158296, 144.42899561,\n",
       "       133.56020352, 127.27083415, 123.7268522 , 123.35675119,\n",
       "       118.10577656, 114.72639376, 112.93579207, 108.97468441,\n",
       "       107.1582996 , 102.47739458, 100.71885677,  98.79281384,\n",
       "        97.42100059,  94.87371633,  91.99929029,  89.72166933,\n",
       "        87.20390949,  85.74199401,  85.37479393,  84.83865159,\n",
       "        83.62001251,  82.1639484 ,  81.60499191,  79.48728491,\n",
       "        78.95298608,  76.08775292,  72.83266894,  72.53298475,\n",
       "        70.42354556,  68.33143575,  67.58347227,  66.58863915,\n",
       "        65.00901256,  64.24842098,  63.44705828,  62.7366743 ,\n",
       "        61.85468665,  58.8095079 ,  57.4108211 ,  57.2289969 ,\n",
       "        56.81252401,  55.90310754,  53.88388372,  53.28898411,\n",
       "        52.74144861,  51.97383465,  51.13489382,  50.29472697,\n",
       "        49.89045923,  48.94456814,  48.2115476 ,  48.03088001,\n",
       "        46.5612931 ,  45.80147304,  45.14806768,  44.30428248,\n",
       "        43.84029404,  43.11284969,  42.08590855,  41.8561258 ,\n",
       "        41.05847213,  40.90538491,  39.35999834,  39.00091924,\n",
       "        38.45161341,  37.83352198,  37.34177588,  36.27834648,\n",
       "        35.48838107,  35.16144151,  34.58872113,  34.27852646,\n",
       "        33.72358345,  33.10249687,  32.83409849,  32.63225569,\n",
       "        32.1955751 ,  31.58130667,  30.35335181,  29.84028048,\n",
       "        29.69553688,  29.25590344,  28.85346036,  28.47342929,\n",
       "        28.28232184,  27.96423085,  27.27230559,  27.16574804,\n",
       "        27.04135741,  26.74037546,  26.60016789,  26.47008147,\n",
       "        26.00953355,  25.73033475,  24.89131961,  24.66516816,\n",
       "        24.48833266,  24.434549  ,  24.34537088,  23.5745361 ,\n",
       "        23.53419305,  23.49080819,  23.37061144,  23.21624003,\n",
       "        22.98423535,  22.82903102,  22.55047147,  22.32683411,\n",
       "        22.21644823,  22.03377573,  21.72477978,  21.57233986,\n",
       "        21.56050231,  21.1802588 ,  21.15967448,  20.94679456,\n",
       "        20.46017248,  20.38877515,  20.35717524,  20.3232404 ,\n",
       "        20.21352339,  20.11447927,  19.94697248,  19.60728249,\n",
       "        19.07791999,  18.93806206,  18.90229499,  18.79245209,\n",
       "        18.73049224,  18.3585035 ,  18.24681744,  18.10155891,\n",
       "        17.88264529,  17.81416722,  17.72353693,  17.65250164,\n",
       "        17.58577928,  17.55064252,  17.49359792,  17.41498296,\n",
       "        17.31063592,  17.26751535,  16.95863369,  16.91404643,\n",
       "        16.58945552,  16.46606296,  16.38893375,  16.12371392,\n",
       "        16.07950289,  15.96016612,  15.92302633,  15.85416605,\n",
       "        15.40268999,  15.33119141,  15.06573729,  14.92378995,\n",
       "        14.89437002,  14.85991226,  14.66562047,  14.58745119,\n",
       "        14.53825933,  14.41340718,  14.25668419,  14.11790138,\n",
       "        13.95021374,  13.94656515,  13.85075414,  13.75391735,\n",
       "        13.4497285 ,  13.3894116 ,  13.35249943,  13.31055426,\n",
       "        13.21507725,  13.17706833,  13.1279803 ,  12.88102316,\n",
       "        12.73508019,  12.64072454,  12.59790881,  12.47518116,\n",
       "        12.46846939,  12.33135965,  12.28342741,  12.12746797,\n",
       "        12.07425142,  12.04304312,  11.90339846,  11.8333901 ,\n",
       "        11.80327474,  11.70997597,  11.48244344,  11.41175629,\n",
       "        11.36257343,  11.3345763 ,  11.1272418 ,  11.02646748,\n",
       "        10.93023358,  10.84904623,  10.68470526,  10.63209678,\n",
       "        10.5690877 ,  10.50410672,  10.48189223,  10.41248934,\n",
       "        10.29283325,  10.28322426,  10.19790652,  10.15065271,\n",
       "        10.06469259,   9.96663929,   9.79960672,   9.72215323,\n",
       "         9.65230414,   9.60625281,   9.58145957,   9.50059035,\n",
       "         9.4569299 ,   9.42515359,   9.35643691,   9.27336257,\n",
       "         9.14534562,   9.10974038,   8.80913423,   8.71406987,\n",
       "         8.58036137,   8.53122651,   8.47574739,   8.45612289,\n",
       "         8.4433924 ,   8.34992224,   8.27458347,   8.26132349,\n",
       "         8.15494768,   8.08097758,   8.01967225,   7.99662997,\n",
       "         7.95128221,   7.91716069,   7.82702887,   7.76097326,\n",
       "         7.55942816,   7.49196206,   7.42058916,   7.38724837,\n",
       "         7.28812025,   7.19633068,   7.16656415,   7.1275533 ,\n",
       "         7.04585998,   7.02101388,   6.99719019,   6.93609017,\n",
       "         6.89298515,   6.85003077,   6.80452702,   6.73439663,\n",
       "         6.63885566,   6.58781059,   6.54475957,   6.44753484,\n",
       "         6.43462977,   6.31825409,   6.29310321,   6.26193373])"
      ]
     },
     "execution_count": 7,
     "metadata": {},
     "output_type": "execute_result"
    }
   ],
   "source": [
    "pca.singular_values_"
   ]
  },
  {
   "cell_type": "code",
   "execution_count": 8,
   "metadata": {},
   "outputs": [
    {
     "data": {
      "text/html": [
       "<div>\n",
       "<style scoped>\n",
       "    .dataframe tbody tr th:only-of-type {\n",
       "        vertical-align: middle;\n",
       "    }\n",
       "\n",
       "    .dataframe tbody tr th {\n",
       "        vertical-align: top;\n",
       "    }\n",
       "\n",
       "    .dataframe thead th {\n",
       "        text-align: right;\n",
       "    }\n",
       "</style>\n",
       "<table border=\"1\" class=\"dataframe\">\n",
       "  <thead>\n",
       "    <tr style=\"text-align: right;\">\n",
       "      <th></th>\n",
       "      <th>0</th>\n",
       "      <th>1</th>\n",
       "      <th>2</th>\n",
       "      <th>3</th>\n",
       "      <th>4</th>\n",
       "      <th>5</th>\n",
       "      <th>6</th>\n",
       "      <th>7</th>\n",
       "      <th>8</th>\n",
       "      <th>9</th>\n",
       "      <th>...</th>\n",
       "      <th>290</th>\n",
       "      <th>291</th>\n",
       "      <th>292</th>\n",
       "      <th>293</th>\n",
       "      <th>294</th>\n",
       "      <th>295</th>\n",
       "      <th>296</th>\n",
       "      <th>297</th>\n",
       "      <th>298</th>\n",
       "      <th>299</th>\n",
       "    </tr>\n",
       "  </thead>\n",
       "  <tbody>\n",
       "    <tr>\n",
       "      <td>0</td>\n",
       "      <td>0.147497</td>\n",
       "      <td>-0.128136</td>\n",
       "      <td>-0.555639</td>\n",
       "      <td>0.292194</td>\n",
       "      <td>-0.168896</td>\n",
       "      <td>1.501089</td>\n",
       "      <td>0.938601</td>\n",
       "      <td>0.363685</td>\n",
       "      <td>-0.396042</td>\n",
       "      <td>-0.006756</td>\n",
       "      <td>...</td>\n",
       "      <td>-0.000455</td>\n",
       "      <td>-0.001515</td>\n",
       "      <td>0.000172</td>\n",
       "      <td>0.000022</td>\n",
       "      <td>0.001064</td>\n",
       "      <td>-0.000853</td>\n",
       "      <td>-0.000600</td>\n",
       "      <td>0.000987</td>\n",
       "      <td>-0.000144</td>\n",
       "      <td>0.001535</td>\n",
       "    </tr>\n",
       "    <tr>\n",
       "      <td>1</td>\n",
       "      <td>0.215837</td>\n",
       "      <td>-0.316249</td>\n",
       "      <td>-0.480825</td>\n",
       "      <td>1.065285</td>\n",
       "      <td>-0.388672</td>\n",
       "      <td>0.314880</td>\n",
       "      <td>0.001645</td>\n",
       "      <td>-0.663226</td>\n",
       "      <td>-1.176959</td>\n",
       "      <td>0.081671</td>\n",
       "      <td>...</td>\n",
       "      <td>-0.000710</td>\n",
       "      <td>-0.000502</td>\n",
       "      <td>-0.000154</td>\n",
       "      <td>0.000139</td>\n",
       "      <td>0.001533</td>\n",
       "      <td>0.000672</td>\n",
       "      <td>-0.000224</td>\n",
       "      <td>-0.000028</td>\n",
       "      <td>-0.000351</td>\n",
       "      <td>0.001121</td>\n",
       "    </tr>\n",
       "    <tr>\n",
       "      <td>2</td>\n",
       "      <td>-1.357071</td>\n",
       "      <td>0.254334</td>\n",
       "      <td>0.212074</td>\n",
       "      <td>-0.170978</td>\n",
       "      <td>0.917643</td>\n",
       "      <td>-0.101091</td>\n",
       "      <td>0.896096</td>\n",
       "      <td>0.363993</td>\n",
       "      <td>0.523769</td>\n",
       "      <td>-0.618342</td>\n",
       "      <td>...</td>\n",
       "      <td>0.000163</td>\n",
       "      <td>-0.000352</td>\n",
       "      <td>-0.000133</td>\n",
       "      <td>0.000323</td>\n",
       "      <td>0.000025</td>\n",
       "      <td>-0.000563</td>\n",
       "      <td>-0.000791</td>\n",
       "      <td>-0.000583</td>\n",
       "      <td>0.000071</td>\n",
       "      <td>-0.000094</td>\n",
       "    </tr>\n",
       "    <tr>\n",
       "      <td>3</td>\n",
       "      <td>-0.699646</td>\n",
       "      <td>0.090907</td>\n",
       "      <td>-0.430041</td>\n",
       "      <td>0.786889</td>\n",
       "      <td>-0.922474</td>\n",
       "      <td>-0.422978</td>\n",
       "      <td>-0.176333</td>\n",
       "      <td>0.432002</td>\n",
       "      <td>0.212042</td>\n",
       "      <td>-0.075838</td>\n",
       "      <td>...</td>\n",
       "      <td>-0.002038</td>\n",
       "      <td>-0.006291</td>\n",
       "      <td>-0.003395</td>\n",
       "      <td>0.002031</td>\n",
       "      <td>0.000864</td>\n",
       "      <td>-0.003951</td>\n",
       "      <td>-0.004729</td>\n",
       "      <td>0.000309</td>\n",
       "      <td>-0.001404</td>\n",
       "      <td>-0.002227</td>\n",
       "    </tr>\n",
       "    <tr>\n",
       "      <td>4</td>\n",
       "      <td>2.361831</td>\n",
       "      <td>0.017103</td>\n",
       "      <td>1.310205</td>\n",
       "      <td>1.881893</td>\n",
       "      <td>-0.120688</td>\n",
       "      <td>-0.377364</td>\n",
       "      <td>0.510768</td>\n",
       "      <td>-0.666730</td>\n",
       "      <td>-0.220307</td>\n",
       "      <td>0.107169</td>\n",
       "      <td>...</td>\n",
       "      <td>0.003560</td>\n",
       "      <td>-0.004378</td>\n",
       "      <td>0.005977</td>\n",
       "      <td>-0.018032</td>\n",
       "      <td>-0.006768</td>\n",
       "      <td>0.003710</td>\n",
       "      <td>-0.010758</td>\n",
       "      <td>0.000546</td>\n",
       "      <td>-0.007120</td>\n",
       "      <td>-0.010769</td>\n",
       "    </tr>\n",
       "  </tbody>\n",
       "</table>\n",
       "<p>5 rows × 300 columns</p>\n",
       "</div>"
      ],
      "text/plain": [
       "        0         1         2         3         4         5         6    \\\n",
       "0  0.147497 -0.128136 -0.555639  0.292194 -0.168896  1.501089  0.938601   \n",
       "1  0.215837 -0.316249 -0.480825  1.065285 -0.388672  0.314880  0.001645   \n",
       "2 -1.357071  0.254334  0.212074 -0.170978  0.917643 -0.101091  0.896096   \n",
       "3 -0.699646  0.090907 -0.430041  0.786889 -0.922474 -0.422978 -0.176333   \n",
       "4  2.361831  0.017103  1.310205  1.881893 -0.120688 -0.377364  0.510768   \n",
       "\n",
       "        7         8         9    ...       290       291       292       293  \\\n",
       "0  0.363685 -0.396042 -0.006756  ... -0.000455 -0.001515  0.000172  0.000022   \n",
       "1 -0.663226 -1.176959  0.081671  ... -0.000710 -0.000502 -0.000154  0.000139   \n",
       "2  0.363993  0.523769 -0.618342  ...  0.000163 -0.000352 -0.000133  0.000323   \n",
       "3  0.432002  0.212042 -0.075838  ... -0.002038 -0.006291 -0.003395  0.002031   \n",
       "4 -0.666730 -0.220307  0.107169  ...  0.003560 -0.004378  0.005977 -0.018032   \n",
       "\n",
       "        294       295       296       297       298       299  \n",
       "0  0.001064 -0.000853 -0.000600  0.000987 -0.000144  0.001535  \n",
       "1  0.001533  0.000672 -0.000224 -0.000028 -0.000351  0.001121  \n",
       "2  0.000025 -0.000563 -0.000791 -0.000583  0.000071 -0.000094  \n",
       "3  0.000864 -0.003951 -0.004729  0.000309 -0.001404 -0.002227  \n",
       "4 -0.006768  0.003710 -0.010758  0.000546 -0.007120 -0.010769  \n",
       "\n",
       "[5 rows x 300 columns]"
      ]
     },
     "execution_count": 8,
     "metadata": {},
     "output_type": "execute_result"
    }
   ],
   "source": [
    "Xtrain = pd.DataFrame(data=pca.transform(Xtrain))\n",
    "Xtrain.head()"
   ]
  },
  {
   "cell_type": "code",
   "execution_count": 9,
   "metadata": {},
   "outputs": [
    {
     "data": {
      "text/plain": [
       "(590540, 300)"
      ]
     },
     "execution_count": 9,
     "metadata": {},
     "output_type": "execute_result"
    }
   ],
   "source": [
    "Xtrain.shape"
   ]
  },
  {
   "cell_type": "code",
   "execution_count": 10,
   "metadata": {},
   "outputs": [
    {
     "name": "stderr",
     "output_type": "stream",
     "text": [
      "Using TensorFlow backend.\n"
     ]
    }
   ],
   "source": [
    "from keras.models import Sequential\n",
    "from keras.layers import Dense, Dropout"
   ]
  },
  {
   "cell_type": "code",
   "execution_count": 11,
   "metadata": {},
   "outputs": [],
   "source": [
    "from keras.callbacks import EarlyStopping, ReduceLROnPlateau"
   ]
  },
  {
   "cell_type": "code",
   "execution_count": 12,
   "metadata": {},
   "outputs": [],
   "source": [
    "earlystop = EarlyStopping(patience=15, restore_best_weights=True)\n",
    "\n",
    "reduce_learning = ReduceLROnPlateau(patience=5, verbose=1, cooldown=10)"
   ]
  },
  {
   "cell_type": "code",
   "execution_count": 13,
   "metadata": {},
   "outputs": [],
   "source": [
    "callbacks = [earlystop, reduce_learning]"
   ]
  },
  {
   "cell_type": "code",
   "execution_count": 14,
   "metadata": {},
   "outputs": [],
   "source": [
    "clf = Sequential()"
   ]
  },
  {
   "cell_type": "code",
   "execution_count": 15,
   "metadata": {},
   "outputs": [
    {
     "name": "stdout",
     "output_type": "stream",
     "text": [
      "WARNING:tensorflow:From C:\\Anaconda3\\envs\\dsmldl\\lib\\site-packages\\tensorflow\\python\\framework\\op_def_library.py:263: colocate_with (from tensorflow.python.framework.ops) is deprecated and will be removed in a future version.\n",
      "Instructions for updating:\n",
      "Colocations handled automatically by placer.\n",
      "WARNING:tensorflow:From C:\\Anaconda3\\envs\\dsmldl\\lib\\site-packages\\keras\\backend\\tensorflow_backend.py:3445: calling dropout (from tensorflow.python.ops.nn_ops) with keep_prob is deprecated and will be removed in a future version.\n",
      "Instructions for updating:\n",
      "Please use `rate` instead of `keep_prob`. Rate should be set to `rate = 1 - keep_prob`.\n"
     ]
    }
   ],
   "source": [
    "clf.add(Dense(units=200, activation='relu', kernel_initializer='random_uniform', bias_initializer='ones', input_dim=300))\n",
    "clf.add(Dropout(rate=0.2))"
   ]
  },
  {
   "cell_type": "code",
   "execution_count": 16,
   "metadata": {},
   "outputs": [],
   "source": [
    "clf.add(Dense(units=200, activation='relu', kernel_initializer='random_uniform', bias_initializer='ones'))\n",
    "clf.add(Dropout(rate=0.2))"
   ]
  },
  {
   "cell_type": "code",
   "execution_count": 17,
   "metadata": {},
   "outputs": [],
   "source": [
    "clf.add(Dense(units=1, activation='sigmoid', kernel_initializer='uniform'))"
   ]
  },
  {
   "cell_type": "code",
   "execution_count": 18,
   "metadata": {},
   "outputs": [],
   "source": [
    "clf.compile(optimizer='rmsprop', loss='binary_crossentropy', metrics=['accuracy'])"
   ]
  },
  {
   "cell_type": "code",
   "execution_count": 19,
   "metadata": {},
   "outputs": [
    {
     "name": "stdout",
     "output_type": "stream",
     "text": [
      "_________________________________________________________________\n",
      "Layer (type)                 Output Shape              Param #   \n",
      "=================================================================\n",
      "dense_1 (Dense)              (None, 200)               60200     \n",
      "_________________________________________________________________\n",
      "dropout_1 (Dropout)          (None, 200)               0         \n",
      "_________________________________________________________________\n",
      "dense_2 (Dense)              (None, 200)               40200     \n",
      "_________________________________________________________________\n",
      "dropout_2 (Dropout)          (None, 200)               0         \n",
      "_________________________________________________________________\n",
      "dense_3 (Dense)              (None, 1)                 201       \n",
      "=================================================================\n",
      "Total params: 100,601\n",
      "Trainable params: 100,601\n",
      "Non-trainable params: 0\n",
      "_________________________________________________________________\n"
     ]
    }
   ],
   "source": [
    "clf.summary()"
   ]
  },
  {
   "cell_type": "code",
   "execution_count": 20,
   "metadata": {},
   "outputs": [
    {
     "name": "stdout",
     "output_type": "stream",
     "text": [
      "WARNING:tensorflow:From C:\\Anaconda3\\envs\\dsmldl\\lib\\site-packages\\tensorflow\\python\\ops\\math_ops.py:3066: to_int32 (from tensorflow.python.ops.math_ops) is deprecated and will be removed in a future version.\n",
      "Instructions for updating:\n",
      "Use tf.cast instead.\n",
      "Train on 472432 samples, validate on 118108 samples\n",
      "Epoch 1/100\n",
      "472432/472432 [==============================] - 18s 38us/step - loss: 0.1151 - acc: 0.9704 - val_loss: 0.1217 - val_acc: 0.9693\n",
      "Epoch 2/100\n",
      "472432/472432 [==============================] - 17s 36us/step - loss: 0.1073 - acc: 0.9722 - val_loss: 0.1278 - val_acc: 0.9663\n",
      "Epoch 3/100\n",
      "472432/472432 [==============================] - 17s 36us/step - loss: 0.1037 - acc: 0.9734 - val_loss: 0.1181 - val_acc: 0.9698\n",
      "Epoch 4/100\n",
      "472432/472432 [==============================] - 17s 36us/step - loss: 0.1007 - acc: 0.9744 - val_loss: 0.1234 - val_acc: 0.9691\n",
      "Epoch 5/100\n",
      "472432/472432 [==============================] - 17s 36us/step - loss: 0.0989 - acc: 0.9753 - val_loss: 0.1256 - val_acc: 0.9687\n",
      "Epoch 6/100\n",
      "472432/472432 [==============================] - 17s 36us/step - loss: 0.0975 - acc: 0.9758 - val_loss: 0.1291 - val_acc: 0.9693\n",
      "Epoch 7/100\n",
      "472432/472432 [==============================] - 17s 37us/step - loss: 0.0963 - acc: 0.9760 - val_loss: 0.1378 - val_acc: 0.9688\n",
      "Epoch 8/100\n",
      "472432/472432 [==============================] - 17s 36us/step - loss: 0.0961 - acc: 0.9766 - val_loss: 0.1259 - val_acc: 0.9701\n",
      "\n",
      "Epoch 00008: ReduceLROnPlateau reducing learning rate to 0.00010000000474974513.\n",
      "Epoch 9/100\n",
      "472432/472432 [==============================] - 17s 36us/step - loss: 0.0915 - acc: 0.9772 - val_loss: 0.1286 - val_acc: 0.9701\n",
      "Epoch 10/100\n",
      "472432/472432 [==============================] - 17s 36us/step - loss: 0.0907 - acc: 0.9774 - val_loss: 0.1279 - val_acc: 0.9699\n",
      "Epoch 11/100\n",
      "472432/472432 [==============================] - 17s 36us/step - loss: 0.0899 - acc: 0.9775 - val_loss: 0.1256 - val_acc: 0.9701\n",
      "Epoch 12/100\n",
      "472432/472432 [==============================] - 17s 36us/step - loss: 0.0896 - acc: 0.9776 - val_loss: 0.1285 - val_acc: 0.9701\n",
      "Epoch 13/100\n",
      "472432/472432 [==============================] - 17s 36us/step - loss: 0.0895 - acc: 0.9776 - val_loss: 0.1313 - val_acc: 0.9699\n",
      "Epoch 14/100\n",
      "472432/472432 [==============================] - 17s 37us/step - loss: 0.0893 - acc: 0.9776 - val_loss: 0.1266 - val_acc: 0.9702\n",
      "Epoch 15/100\n",
      "472432/472432 [==============================] - 17s 36us/step - loss: 0.0892 - acc: 0.9778 - val_loss: 0.1281 - val_acc: 0.9694\n",
      "Epoch 16/100\n",
      "472432/472432 [==============================] - 17s 37us/step - loss: 0.0891 - acc: 0.9778 - val_loss: 0.1270 - val_acc: 0.9696\n",
      "Epoch 17/100\n",
      "472432/472432 [==============================] - 17s 37us/step - loss: 0.0890 - acc: 0.9778 - val_loss: 0.1300 - val_acc: 0.9695\n",
      "Epoch 18/100\n",
      "472432/472432 [==============================] - 17s 37us/step - loss: 0.0889 - acc: 0.9778 - val_loss: 0.1299 - val_acc: 0.9692\n"
     ]
    }
   ],
   "source": [
    "history = clf.fit(Xtrain, Ytrain, epochs=100, batch_size=64, validation_split=0.2, shuffle=True, callbacks=callbacks)"
   ]
  },
  {
   "cell_type": "code",
   "execution_count": 21,
   "metadata": {},
   "outputs": [
    {
     "name": "stdout",
     "output_type": "stream",
     "text": [
      "590540/590540 [==============================] - 13s 22us/step\n"
     ]
    },
    {
     "data": {
      "text/plain": [
       "[0.10183033629065676, 0.973556406001287]"
      ]
     },
     "execution_count": 21,
     "metadata": {},
     "output_type": "execute_result"
    }
   ],
   "source": [
    "clf.evaluate(Xtrain,Ytrain)"
   ]
  },
  {
   "cell_type": "code",
   "execution_count": 22,
   "metadata": {},
   "outputs": [],
   "source": [
    "clf.save('clf_ANN_mod.h5')"
   ]
  },
  {
   "cell_type": "code",
   "execution_count": 23,
   "metadata": {},
   "outputs": [
    {
     "data": {
      "image/png": "[encoded data removed]",
      "text/plain": [
       "<Figure size 360x288 with 1 Axes>"
      ]
     },
     "metadata": {
      "needs_background": "light"
     },
     "output_type": "display_data"
    }
   ],
   "source": [
    "# Plot training & validation accuracy values\n",
    "plt.figure(figsize=(5, 4))\n",
    "plt.plot(history.history['acc'])\n",
    "plt.plot(history.history['val_acc'])\n",
    "plt.title('Model accuracy')\n",
    "plt.ylabel('Accuracy')\n",
    "plt.xlabel('Epoch')\n",
    "plt.legend(['Train', 'Test'], loc='upper left')\n",
    "plt.show()"
   ]
  },
  {
   "cell_type": "code",
   "execution_count": 24,
   "metadata": {},
   "outputs": [
    {
     "data": {
      "image/png": "[encoded data removed]",
      "text/plain": [
       "<Figure size 360x288 with 1 Axes>"
      ]
     },
     "metadata": {
      "needs_background": "light"
     },
     "output_type": "display_data"
    }
   ],
   "source": [
    "# Plot training & validation loss values\n",
    "plt.figure(figsize=(5, 4))\n",
    "plt.plot(history.history['loss'])\n",
    "plt.plot(history.history['val_loss'])\n",
    "plt.title('Model loss')\n",
    "plt.ylabel('Loss')\n",
    "plt.xlabel('Epoch')\n",
    "plt.legend(['Train', 'Test'], loc='upper left')\n",
    "plt.show()"
   ]
  },
  {
   "cell_type": "code",
   "execution_count": 25,
   "metadata": {},
   "outputs": [],
   "source": [
    "from sklearn.metrics import log_loss, classification_report, confusion_matrix"
   ]
  },
  {
   "cell_type": "code",
   "execution_count": 26,
   "metadata": {},
   "outputs": [],
   "source": [
    "Ytrain_ = clf.predict(Xtrain) > 0.5"
   ]
  },
  {
   "cell_type": "code",
   "execution_count": 27,
   "metadata": {},
   "outputs": [
    {
     "name": "stdout",
     "output_type": "stream",
     "text": [
      "0.9133308113885754\n",
      "[[568820   1057]\n",
      " [ 14559   6104]]\n",
      "              precision    recall  f1-score   support\n",
      "\n",
      "           0       0.98      1.00      0.99    569877\n",
      "           1       0.85      0.30      0.44     20663\n",
      "\n",
      "    accuracy                           0.97    590540\n",
      "   macro avg       0.91      0.65      0.71    590540\n",
      "weighted avg       0.97      0.97      0.97    590540\n",
      "\n"
     ]
    }
   ],
   "source": [
    "print(log_loss(Ytrain, Ytrain_))\n",
    "print(confusion_matrix(Ytrain, Ytrain_))\n",
    "print(classification_report(Ytrain, Ytrain_))"
   ]
  },
  {
   "cell_type": "code",
   "execution_count": 28,
   "metadata": {},
   "outputs": [],
   "source": [
    "del(Xtrain)\n",
    "del(Ytrain)"
   ]
  },
  {
   "cell_type": "code",
   "execution_count": 29,
   "metadata": {},
   "outputs": [],
   "source": [
    "Xtest = pickle.load(open('Xtest_ANN.data', 'rb'))"
   ]
  },
  {
   "cell_type": "code",
   "execution_count": 30,
   "metadata": {},
   "outputs": [
    {
     "ename": "AttributeError",
     "evalue": "module 'pandas' has no attribute 'Dataframe'",
     "output_type": "error",
     "traceback": [
      "\u001b[1;31m---------------------------------------------------------------------------\u001b[0m",
      "\u001b[1;31mAttributeError\u001b[0m                            Traceback (most recent call last)",
      "\u001b[1;32m<ipython-input-30-1f0480cef555>\u001b[0m in \u001b[0;36m<module>\u001b[1;34m\u001b[0m\n\u001b[1;32m----> 1\u001b[1;33m \u001b[0mXtest\u001b[0m \u001b[1;33m=\u001b[0m \u001b[0mpd\u001b[0m\u001b[1;33m.\u001b[0m\u001b[0mDataframe\u001b[0m\u001b[1;33m(\u001b[0m\u001b[0mdata\u001b[0m\u001b[1;33m=\u001b[0m\u001b[0mpca\u001b[0m\u001b[1;33m.\u001b[0m\u001b[0mtransform\u001b[0m\u001b[1;33m(\u001b[0m\u001b[0mXtest\u001b[0m\u001b[1;33m)\u001b[0m\u001b[1;33m)\u001b[0m\u001b[1;33m\u001b[0m\u001b[1;33m\u001b[0m\u001b[0m\n\u001b[0m",
      "\u001b[1;31mAttributeError\u001b[0m: module 'pandas' has no attribute 'Dataframe'"
     ]
    }
   ],
   "source": [
    "Xtest = pd.Dataframe(data=pca.transform(Xtest))"
   ]
  },
  {
   "cell_type": "code",
   "execution_count": null,
   "metadata": {},
   "outputs": [],
   "source": [
    "Ytest_ = clf.predict(Xtest)\n",
    "del(Xtest)"
   ]
  },
  {
   "cell_type": "code",
   "execution_count": null,
   "metadata": {},
   "outputs": [],
   "source": [
    "Ytest_"
   ]
  },
  {
   "cell_type": "code",
   "execution_count": null,
   "metadata": {},
   "outputs": [],
   "source": [
    "submission = pd.read_csv('./raw/sample_submission.csv', index_col='TransactionID')"
   ]
  },
  {
   "cell_type": "code",
   "execution_count": null,
   "metadata": {},
   "outputs": [],
   "source": [
    "submission.count()"
   ]
  },
  {
   "cell_type": "code",
   "execution_count": null,
   "metadata": {},
   "outputs": [],
   "source": [
    "submission['isFraud'] = Ytest_\n",
    "submission.head()"
   ]
  },
  {
   "cell_type": "code",
   "execution_count": null,
   "metadata": {},
   "outputs": [],
   "source": [
    "submission.to_csv('predicted_ANN_mod.csv')"
   ]
  },
  {
   "cell_type": "code",
   "execution_count": null,
   "metadata": {},
   "outputs": [],
   "source": [
    "submission[submission['isFraud'] > 0.5].count()"
   ]
  },
  {
   "cell_type": "code",
   "execution_count": null,
   "metadata": {},
   "outputs": [],
   "source": []
  }
 ],
 "metadata": {
  "kernelspec": {
   "display_name": "Python 3",
   "language": "python",
   "name": "python3"
  },
  "language_info": {
   "codemirror_mode": {
    "name": "ipython",
    "version": 3
   },
   "file_extension": ".py",
   "mimetype": "text/x-python",
   "name": "python",
   "nbconvert_exporter": "python",
   "pygments_lexer": "ipython3",
   "version": "3.6.9"
  }
 },
 "nbformat": 4,
 "nbformat_minor": 4
}
