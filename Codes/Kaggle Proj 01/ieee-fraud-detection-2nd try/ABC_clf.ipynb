{
 "cells": [
  {
   "cell_type": "code",
   "execution_count": 1,
   "metadata": {},
   "outputs": [],
   "source": [
    "import pickle\n",
    "import pandas as pd\n",
    "import numpy as np"
   ]
  },
  {
   "cell_type": "code",
   "execution_count": 2,
   "metadata": {},
   "outputs": [],
   "source": [
    "Xtrain = pickle.load(open('Xtrain_ANN.data', 'rb'))\n",
    "Ytrain = pickle.load(open('Ytrain_ANN.data', 'rb'))"
   ]
  },
  {
   "cell_type": "code",
   "execution_count": 3,
   "metadata": {},
   "outputs": [],
   "source": [
    "from sklearn.decomposition import PCA"
   ]
  },
  {
   "cell_type": "code",
   "execution_count": 4,
   "metadata": {},
   "outputs": [],
   "source": [
    "pca = PCA(n_components=100)"
   ]
  },
  {
   "cell_type": "code",
   "execution_count": 5,
   "metadata": {},
   "outputs": [
    {
     "data": {
      "text/plain": [
       "PCA(copy=True, iterated_power='auto', n_components=100, random_state=None,\n",
       "    svd_solver='auto', tol=0.0, whiten=False)"
      ]
     },
     "execution_count": 5,
     "metadata": {},
     "output_type": "execute_result"
    }
   ],
   "source": [
    "pca.fit(Xtrain)"
   ]
  },
  {
   "cell_type": "code",
   "execution_count": 6,
   "metadata": {},
   "outputs": [
    {
     "data": {
      "text/plain": [
       "array([1.53691052, 0.51650046, 0.49245962, 0.44320213, 0.3996141 ,\n",
       "       0.3728763 , 0.34904255, 0.30409751, 0.28935477, 0.22907146,\n",
       "       0.20430351, 0.16881411, 0.1497853 , 0.13200864, 0.12425354,\n",
       "       0.10653815, 0.10525059, 0.09735936, 0.09501407, 0.08820326,\n",
       "       0.08559168, 0.08331366, 0.07050821, 0.06771544, 0.06389252,\n",
       "       0.0575539 , 0.0527528 , 0.04716308, 0.04583233, 0.0448552 ,\n",
       "       0.04237726, 0.04029173, 0.03876344, 0.03744882, 0.03641377,\n",
       "       0.03532321, 0.03020686, 0.02742895, 0.02592265, 0.0257678 ,\n",
       "       0.02362075, 0.02228836, 0.02159805, 0.02010956, 0.01944478,\n",
       "       0.0177831 , 0.01717802, 0.01652731, 0.01607151, 0.01524204,\n",
       "       0.01433245, 0.01363158, 0.01287726, 0.01244912, 0.01234272,\n",
       "       0.01218818, 0.01184055, 0.01143178, 0.01127677, 0.01069909,\n",
       "       0.01055573, 0.00980349, 0.00898263, 0.00890887, 0.0083982 ,\n",
       "       0.00790664, 0.00773449, 0.00750846, 0.00715642, 0.00698992,\n",
       "       0.00681661, 0.00666485, 0.00647876, 0.00585622, 0.00558121,\n",
       "       0.00554568, 0.00546557, 0.00529161, 0.00491651, 0.00480844,\n",
       "       0.00470943, 0.00457317, 0.00442694, 0.00428199, 0.00421197,\n",
       "       0.00405525, 0.00393248, 0.00389947, 0.00367063, 0.0035498 ,\n",
       "       0.00344933, 0.00331521, 0.00324416, 0.00313343, 0.00299436,\n",
       "       0.00295574, 0.00283871, 0.00280915, 0.00258558, 0.00255845])"
      ]
     },
     "execution_count": 6,
     "metadata": {},
     "output_type": "execute_result"
    }
   ],
   "source": [
    "pca.explained_variance_"
   ]
  },
  {
   "cell_type": "code",
   "execution_count": 7,
   "metadata": {},
   "outputs": [
    {
     "data": {
      "text/plain": [
       "array([952.68336905, 552.28042499, 539.27415161, 511.59373042,\n",
       "       485.78566609, 469.25259601, 454.00797364, 423.77050403,\n",
       "       413.37062837, 367.79835612, 347.34592657, 315.7393151 ,\n",
       "       297.41227537, 279.20646124, 270.88107937, 250.8284875 ,\n",
       "       249.30819895, 239.78010334, 236.87447345, 228.22678272,\n",
       "       224.82265666, 221.81064765, 204.05353693, 199.97152569,\n",
       "       194.24475783, 184.35786944, 176.50094352, 166.88810337,\n",
       "       164.5168106 , 162.75364122, 158.19425543, 154.25250857,\n",
       "       151.29878161, 148.71109277, 146.64158296, 144.42899561,\n",
       "       133.56020352, 127.27083415, 123.7268522 , 123.35675119,\n",
       "       118.10577656, 114.72639376, 112.93579206, 108.97468439,\n",
       "       107.15829958, 102.47739453, 100.71885669,  98.7928138 ,\n",
       "        97.42100034,  94.87371602,  91.99929017,  89.72166876,\n",
       "        87.20390846,  85.74199281,  85.37479225,  84.83864578,\n",
       "        83.62000865,  82.1639458 ,  81.60498775,  79.48728201,\n",
       "        78.95298006,  76.08774487,  72.83265918,  72.53297961,\n",
       "        70.42348185,  68.33139812,  67.5834217 ,  66.58859212,\n",
       "        65.00879044,  64.24811431,  63.44660918,  62.73640561,\n",
       "        61.85436567,  58.80752505,  57.41013509,  57.22709003,\n",
       "        56.81225416,  55.90084893,  53.88311387,  53.28762701,\n",
       "        52.73617838,  51.96760896,  51.13003744,  50.28597785,\n",
       "        49.87317332,  48.93651452,  48.19004223,  47.98737981,\n",
       "        46.55802926,  45.78528618,  45.13274246,  44.24657373,\n",
       "        43.76986993,  43.01645503,  42.05099125,  41.7789119 ,\n",
       "        40.94349448,  40.72976203,  39.07540943,  38.86986531])"
      ]
     },
     "execution_count": 7,
     "metadata": {},
     "output_type": "execute_result"
    }
   ],
   "source": [
    "pca.singular_values_"
   ]
  },
  {
   "cell_type": "code",
   "execution_count": 8,
   "metadata": {},
   "outputs": [
    {
     "data": {
      "text/html": [
       "<div>\n",
       "<style scoped>\n",
       "    .dataframe tbody tr th:only-of-type {\n",
       "        vertical-align: middle;\n",
       "    }\n",
       "\n",
       "    .dataframe tbody tr th {\n",
       "        vertical-align: top;\n",
       "    }\n",
       "\n",
       "    .dataframe thead th {\n",
       "        text-align: right;\n",
       "    }\n",
       "</style>\n",
       "<table border=\"1\" class=\"dataframe\">\n",
       "  <thead>\n",
       "    <tr style=\"text-align: right;\">\n",
       "      <th></th>\n",
       "      <th>0</th>\n",
       "      <th>1</th>\n",
       "      <th>2</th>\n",
       "      <th>3</th>\n",
       "      <th>4</th>\n",
       "      <th>5</th>\n",
       "      <th>6</th>\n",
       "      <th>7</th>\n",
       "      <th>8</th>\n",
       "      <th>9</th>\n",
       "      <th>...</th>\n",
       "      <th>90</th>\n",
       "      <th>91</th>\n",
       "      <th>92</th>\n",
       "      <th>93</th>\n",
       "      <th>94</th>\n",
       "      <th>95</th>\n",
       "      <th>96</th>\n",
       "      <th>97</th>\n",
       "      <th>98</th>\n",
       "      <th>99</th>\n",
       "    </tr>\n",
       "  </thead>\n",
       "  <tbody>\n",
       "    <tr>\n",
       "      <td>0</td>\n",
       "      <td>0.147497</td>\n",
       "      <td>-0.128136</td>\n",
       "      <td>-0.555639</td>\n",
       "      <td>0.292194</td>\n",
       "      <td>-0.168896</td>\n",
       "      <td>1.501089</td>\n",
       "      <td>0.938601</td>\n",
       "      <td>0.363685</td>\n",
       "      <td>-0.396042</td>\n",
       "      <td>-0.006756</td>\n",
       "      <td>...</td>\n",
       "      <td>-0.008526</td>\n",
       "      <td>0.016535</td>\n",
       "      <td>-0.040768</td>\n",
       "      <td>-0.067105</td>\n",
       "      <td>-0.044791</td>\n",
       "      <td>0.036437</td>\n",
       "      <td>-0.009703</td>\n",
       "      <td>-0.026487</td>\n",
       "      <td>0.041831</td>\n",
       "      <td>-0.035295</td>\n",
       "    </tr>\n",
       "    <tr>\n",
       "      <td>1</td>\n",
       "      <td>0.215837</td>\n",
       "      <td>-0.316249</td>\n",
       "      <td>-0.480825</td>\n",
       "      <td>1.065285</td>\n",
       "      <td>-0.388672</td>\n",
       "      <td>0.314880</td>\n",
       "      <td>0.001645</td>\n",
       "      <td>-0.663226</td>\n",
       "      <td>-1.176959</td>\n",
       "      <td>0.081671</td>\n",
       "      <td>...</td>\n",
       "      <td>-0.003357</td>\n",
       "      <td>-0.009909</td>\n",
       "      <td>0.010030</td>\n",
       "      <td>0.010203</td>\n",
       "      <td>-0.000165</td>\n",
       "      <td>0.002904</td>\n",
       "      <td>-0.007159</td>\n",
       "      <td>0.001037</td>\n",
       "      <td>-0.002595</td>\n",
       "      <td>-0.006432</td>\n",
       "    </tr>\n",
       "    <tr>\n",
       "      <td>2</td>\n",
       "      <td>-1.357071</td>\n",
       "      <td>0.254334</td>\n",
       "      <td>0.212074</td>\n",
       "      <td>-0.170978</td>\n",
       "      <td>0.917643</td>\n",
       "      <td>-0.101091</td>\n",
       "      <td>0.896096</td>\n",
       "      <td>0.363993</td>\n",
       "      <td>0.523769</td>\n",
       "      <td>-0.618342</td>\n",
       "      <td>...</td>\n",
       "      <td>0.006307</td>\n",
       "      <td>-0.049741</td>\n",
       "      <td>0.017028</td>\n",
       "      <td>-0.000441</td>\n",
       "      <td>-0.029931</td>\n",
       "      <td>0.009599</td>\n",
       "      <td>0.032737</td>\n",
       "      <td>0.025055</td>\n",
       "      <td>0.110885</td>\n",
       "      <td>0.186447</td>\n",
       "    </tr>\n",
       "    <tr>\n",
       "      <td>3</td>\n",
       "      <td>-0.699646</td>\n",
       "      <td>0.090907</td>\n",
       "      <td>-0.430041</td>\n",
       "      <td>0.786889</td>\n",
       "      <td>-0.922474</td>\n",
       "      <td>-0.422978</td>\n",
       "      <td>-0.176333</td>\n",
       "      <td>0.432002</td>\n",
       "      <td>0.212042</td>\n",
       "      <td>-0.075838</td>\n",
       "      <td>...</td>\n",
       "      <td>0.004868</td>\n",
       "      <td>-0.027412</td>\n",
       "      <td>-0.053747</td>\n",
       "      <td>-0.016984</td>\n",
       "      <td>0.006735</td>\n",
       "      <td>-0.027729</td>\n",
       "      <td>0.134229</td>\n",
       "      <td>-0.033999</td>\n",
       "      <td>-0.069467</td>\n",
       "      <td>0.007398</td>\n",
       "    </tr>\n",
       "    <tr>\n",
       "      <td>4</td>\n",
       "      <td>2.361831</td>\n",
       "      <td>0.017103</td>\n",
       "      <td>1.310205</td>\n",
       "      <td>1.881893</td>\n",
       "      <td>-0.120688</td>\n",
       "      <td>-0.377364</td>\n",
       "      <td>0.510768</td>\n",
       "      <td>-0.666730</td>\n",
       "      <td>-0.220307</td>\n",
       "      <td>0.107169</td>\n",
       "      <td>...</td>\n",
       "      <td>0.004135</td>\n",
       "      <td>0.077430</td>\n",
       "      <td>-0.023671</td>\n",
       "      <td>0.055320</td>\n",
       "      <td>0.018005</td>\n",
       "      <td>0.091160</td>\n",
       "      <td>0.046763</td>\n",
       "      <td>-0.025365</td>\n",
       "      <td>0.005096</td>\n",
       "      <td>-0.007968</td>\n",
       "    </tr>\n",
       "  </tbody>\n",
       "</table>\n",
       "<p>5 rows × 100 columns</p>\n",
       "</div>"
      ],
      "text/plain": [
       "         0         1         2         3         4         5         6   \\\n",
       "0  0.147497 -0.128136 -0.555639  0.292194 -0.168896  1.501089  0.938601   \n",
       "1  0.215837 -0.316249 -0.480825  1.065285 -0.388672  0.314880  0.001645   \n",
       "2 -1.357071  0.254334  0.212074 -0.170978  0.917643 -0.101091  0.896096   \n",
       "3 -0.699646  0.090907 -0.430041  0.786889 -0.922474 -0.422978 -0.176333   \n",
       "4  2.361831  0.017103  1.310205  1.881893 -0.120688 -0.377364  0.510768   \n",
       "\n",
       "         7         8         9   ...        90        91        92        93  \\\n",
       "0  0.363685 -0.396042 -0.006756  ... -0.008526  0.016535 -0.040768 -0.067105   \n",
       "1 -0.663226 -1.176959  0.081671  ... -0.003357 -0.009909  0.010030  0.010203   \n",
       "2  0.363993  0.523769 -0.618342  ...  0.006307 -0.049741  0.017028 -0.000441   \n",
       "3  0.432002  0.212042 -0.075838  ...  0.004868 -0.027412 -0.053747 -0.016984   \n",
       "4 -0.666730 -0.220307  0.107169  ...  0.004135  0.077430 -0.023671  0.055320   \n",
       "\n",
       "         94        95        96        97        98        99  \n",
       "0 -0.044791  0.036437 -0.009703 -0.026487  0.041831 -0.035295  \n",
       "1 -0.000165  0.002904 -0.007159  0.001037 -0.002595 -0.006432  \n",
       "2 -0.029931  0.009599  0.032737  0.025055  0.110885  0.186447  \n",
       "3  0.006735 -0.027729  0.134229 -0.033999 -0.069467  0.007398  \n",
       "4  0.018005  0.091160  0.046763 -0.025365  0.005096 -0.007968  \n",
       "\n",
       "[5 rows x 100 columns]"
      ]
     },
     "execution_count": 8,
     "metadata": {},
     "output_type": "execute_result"
    }
   ],
   "source": [
    "Xtrain = pd.DataFrame(data=pca.transform(Xtrain))\n",
    "Xtrain.head()"
   ]
  },
  {
   "cell_type": "code",
   "execution_count": 9,
   "metadata": {},
   "outputs": [
    {
     "data": {
      "text/plain": [
       "(590540, 100)"
      ]
     },
     "execution_count": 9,
     "metadata": {},
     "output_type": "execute_result"
    }
   ],
   "source": [
    "Xtrain.shape"
   ]
  },
  {
   "cell_type": "code",
   "execution_count": 10,
   "metadata": {},
   "outputs": [],
   "source": [
    "from sklearn.ensemble import AdaBoostClassifier"
   ]
  },
  {
   "cell_type": "code",
   "execution_count": 11,
   "metadata": {},
   "outputs": [],
   "source": [
    "clf = AdaBoostClassifier(n_estimators=500, learning_rate=0.01)"
   ]
  },
  {
   "cell_type": "code",
   "execution_count": 12,
   "metadata": {},
   "outputs": [
    {
     "data": {
      "text/plain": [
       "AdaBoostClassifier(algorithm='SAMME.R', base_estimator=None, learning_rate=0.01,\n",
       "                   n_estimators=500, random_state=None)"
      ]
     },
     "execution_count": 12,
     "metadata": {},
     "output_type": "execute_result"
    }
   ],
   "source": [
    "clf.fit(Xtrain, Ytrain)"
   ]
  },
  {
   "cell_type": "code",
   "execution_count": 13,
   "metadata": {},
   "outputs": [],
   "source": [
    "from sklearn.metrics import log_loss, classification_report, confusion_matrix"
   ]
  },
  {
   "cell_type": "code",
   "execution_count": 14,
   "metadata": {},
   "outputs": [],
   "source": [
    "Ytrain_ = clf.predict(Xtrain)"
   ]
  },
  {
   "cell_type": "code",
   "execution_count": 15,
   "metadata": {},
   "outputs": [
    {
     "name": "stdout",
     "output_type": "stream",
     "text": [
      "1.2085121018864764\n",
      "[[569877      0]\n",
      " [ 20663      0]]\n"
     ]
    },
    {
     "name": "stderr",
     "output_type": "stream",
     "text": [
      "C:\\Anaconda3\\envs\\dsmldl\\lib\\site-packages\\sklearn\\metrics\\classification.py:1437: UndefinedMetricWarning: Precision and F-score are ill-defined and being set to 0.0 in labels with no predicted samples.\n",
      "  'precision', 'predicted', average, warn_for)\n"
     ]
    },
    {
     "name": "stdout",
     "output_type": "stream",
     "text": [
      "              precision    recall  f1-score   support\n",
      "\n",
      "           0       0.97      1.00      0.98    569877\n",
      "           1       0.00      0.00      0.00     20663\n",
      "\n",
      "    accuracy                           0.97    590540\n",
      "   macro avg       0.48      0.50      0.49    590540\n",
      "weighted avg       0.93      0.97      0.95    590540\n",
      "\n"
     ]
    }
   ],
   "source": [
    "print(log_loss(Ytrain, Ytrain_))\n",
    "print(confusion_matrix(Ytrain, Ytrain_))\n",
    "print(classification_report(Ytrain, Ytrain_))"
   ]
  },
  {
   "cell_type": "code",
   "execution_count": 16,
   "metadata": {},
   "outputs": [],
   "source": [
    "Xtest = pickle.load(open('Xtest_ANN.data', 'rb'))"
   ]
  },
  {
   "cell_type": "code",
   "execution_count": 17,
   "metadata": {},
   "outputs": [],
   "source": [
    "Xtest = pca.transform(Xtest)"
   ]
  },
  {
   "cell_type": "code",
   "execution_count": 18,
   "metadata": {},
   "outputs": [],
   "source": [
    "Ytest_ = clf.predict_proba(Xtest)"
   ]
  },
  {
   "cell_type": "code",
   "execution_count": 19,
   "metadata": {},
   "outputs": [],
   "source": [
    "submission = pd.read_csv('./raw/sample_submission.csv', index_col='TransactionID')"
   ]
  },
  {
   "cell_type": "code",
   "execution_count": 20,
   "metadata": {},
   "outputs": [
    {
     "data": {
      "text/plain": [
       "isFraud    506691\n",
       "dtype: int64"
      ]
     },
     "execution_count": 20,
     "metadata": {},
     "output_type": "execute_result"
    }
   ],
   "source": [
    "submission.count()"
   ]
  },
  {
   "cell_type": "code",
   "execution_count": 21,
   "metadata": {},
   "outputs": [
    {
     "data": {
      "text/html": [
       "<div>\n",
       "<style scoped>\n",
       "    .dataframe tbody tr th:only-of-type {\n",
       "        vertical-align: middle;\n",
       "    }\n",
       "\n",
       "    .dataframe tbody tr th {\n",
       "        vertical-align: top;\n",
       "    }\n",
       "\n",
       "    .dataframe thead th {\n",
       "        text-align: right;\n",
       "    }\n",
       "</style>\n",
       "<table border=\"1\" class=\"dataframe\">\n",
       "  <thead>\n",
       "    <tr style=\"text-align: right;\">\n",
       "      <th></th>\n",
       "      <th>isFraud</th>\n",
       "    </tr>\n",
       "    <tr>\n",
       "      <th>TransactionID</th>\n",
       "      <th></th>\n",
       "    </tr>\n",
       "  </thead>\n",
       "  <tbody>\n",
       "    <tr>\n",
       "      <td>3663549</td>\n",
       "      <td>0.673445</td>\n",
       "    </tr>\n",
       "    <tr>\n",
       "      <td>3663550</td>\n",
       "      <td>0.682450</td>\n",
       "    </tr>\n",
       "    <tr>\n",
       "      <td>3663551</td>\n",
       "      <td>0.675011</td>\n",
       "    </tr>\n",
       "    <tr>\n",
       "      <td>3663552</td>\n",
       "      <td>0.698757</td>\n",
       "    </tr>\n",
       "    <tr>\n",
       "      <td>3663553</td>\n",
       "      <td>0.682812</td>\n",
       "    </tr>\n",
       "  </tbody>\n",
       "</table>\n",
       "</div>"
      ],
      "text/plain": [
       "                isFraud\n",
       "TransactionID          \n",
       "3663549        0.673445\n",
       "3663550        0.682450\n",
       "3663551        0.675011\n",
       "3663552        0.698757\n",
       "3663553        0.682812"
      ]
     },
     "execution_count": 21,
     "metadata": {},
     "output_type": "execute_result"
    }
   ],
   "source": [
    "submission['isFraud'] = Ytest_\n",
    "submission.head()"
   ]
  },
  {
   "cell_type": "code",
   "execution_count": 22,
   "metadata": {},
   "outputs": [],
   "source": [
    "submission['isFraud'] = 1 - submission['isFraud']"
   ]
  },
  {
   "cell_type": "code",
   "execution_count": 23,
   "metadata": {},
   "outputs": [
    {
     "data": {
      "text/plain": [
       "isFraud    0\n",
       "dtype: int64"
      ]
     },
     "execution_count": 23,
     "metadata": {},
     "output_type": "execute_result"
    }
   ],
   "source": [
    "submission[submission['isFraud'] > 0.5].count()"
   ]
  },
  {
   "cell_type": "code",
   "execution_count": 24,
   "metadata": {},
   "outputs": [],
   "source": [
    "submission.to_csv('predicted_PCA_ABC.csv')"
   ]
  },
  {
   "cell_type": "code",
   "execution_count": 25,
   "metadata": {},
   "outputs": [],
   "source": [
    "pickle.dump(clf, open('clf_PCA_ABC.model', 'wb'), protocol=4)"
   ]
  },
  {
   "cell_type": "code",
   "execution_count": null,
   "metadata": {},
   "outputs": [],
   "source": []
  },
  {
   "cell_type": "code",
   "execution_count": null,
   "metadata": {},
   "outputs": [],
   "source": []
  }
 ],
 "metadata": {
  "kernelspec": {
   "display_name": "Python 3",
   "language": "python",
   "name": "python3"
  },
  "language_info": {
   "codemirror_mode": {
    "name": "ipython",
    "version": 3
   },
   "file_extension": ".py",
   "mimetype": "text/x-python",
   "name": "python",
   "nbconvert_exporter": "python",
   "pygments_lexer": "ipython3",
   "version": "3.6.9"
  }
 },
 "nbformat": 4,
 "nbformat_minor": 4
}
